{
 "nbformat": 4,
 "nbformat_minor": 2,
 "metadata": {
  "language_info": {
   "name": "python",
   "codemirror_mode": {
    "name": "ipython",
    "version": 3
   },
   "version": "3.7.0-final"
  },
  "orig_nbformat": 2,
  "file_extension": ".py",
  "mimetype": "text/x-python",
  "name": "python",
  "npconvert_exporter": "python",
  "pygments_lexer": "ipython3",
  "version": 3,
  "kernelspec": {
   "name": "5e0819aa-3c2b-43ed-ab2f-7a0001bc2173",
   "display_name": "'Python Interactive'"
  }
 },
 "cells": [
  {
   "cell_type": "code",
   "execution_count": 1,
   "metadata": {},
   "outputs": [],
   "source": [
    "import pandas as pd\n",
    "import numpy as np"
   ]
  },
  {
   "cell_type": "code",
   "execution_count": 2,
   "metadata": {},
   "outputs": [],
   "source": [
    "data = pd.read_csv(\"train-bank-campaign-data.csv\")"
   ]
  },
  {
   "cell_type": "code",
   "execution_count": 16,
   "metadata": {},
   "outputs": [
    {
     "data": {
      "text/html": "<div>\n<style scoped>\n    .dataframe tbody tr th:only-of-type {\n        vertical-align: middle;\n    }\n\n    .dataframe tbody tr th {\n        vertical-align: top;\n    }\n\n    .dataframe thead th {\n        text-align: right;\n    }\n</style>\n<table border=\"1\" class=\"dataframe\">\n  <thead>\n    <tr style=\"text-align: right;\">\n      <th></th>\n      <th>age</th>\n      <th>job</th>\n      <th>marital</th>\n      <th>education</th>\n      <th>default</th>\n      <th>housing</th>\n      <th>loan</th>\n      <th>contact</th>\n      <th>month</th>\n      <th>day_of_week</th>\n      <th>...</th>\n      <th>pdays</th>\n      <th>previous</th>\n      <th>poutcome</th>\n      <th>emp.var.rate</th>\n      <th>cons.price.idx</th>\n      <th>cons.conf.idx</th>\n      <th>euribor3m</th>\n      <th>nr.employed</th>\n      <th>y</th>\n      <th>id_var</th>\n    </tr>\n  </thead>\n  <tbody>\n    <tr>\n      <th>0</th>\n      <td>56</td>\n      <td>services</td>\n      <td>married</td>\n      <td>high.school</td>\n      <td>no</td>\n      <td>no</td>\n      <td>yes</td>\n      <td>telephone</td>\n      <td>may</td>\n      <td>mon</td>\n      <td>...</td>\n      <td>999</td>\n      <td>0</td>\n      <td>nonexistent</td>\n      <td>1.1</td>\n      <td>93.994</td>\n      <td>-36.4</td>\n      <td>4.857</td>\n      <td>5191.0</td>\n      <td>no</td>\n      <td>65790</td>\n    </tr>\n    <tr>\n      <th>1</th>\n      <td>45</td>\n      <td>services</td>\n      <td>married</td>\n      <td>basic.9y</td>\n      <td>unknown</td>\n      <td>no</td>\n      <td>no</td>\n      <td>telephone</td>\n      <td>may</td>\n      <td>mon</td>\n      <td>...</td>\n      <td>999</td>\n      <td>0</td>\n      <td>nonexistent</td>\n      <td>1.1</td>\n      <td>93.994</td>\n      <td>-36.4</td>\n      <td>4.857</td>\n      <td>5191.0</td>\n      <td>no</td>\n      <td>55643</td>\n    </tr>\n    <tr>\n      <th>2</th>\n      <td>59</td>\n      <td>admin.</td>\n      <td>married</td>\n      <td>professional.course</td>\n      <td>no</td>\n      <td>no</td>\n      <td>no</td>\n      <td>telephone</td>\n      <td>may</td>\n      <td>mon</td>\n      <td>...</td>\n      <td>999</td>\n      <td>0</td>\n      <td>nonexistent</td>\n      <td>1.1</td>\n      <td>93.994</td>\n      <td>-36.4</td>\n      <td>4.857</td>\n      <td>5191.0</td>\n      <td>no</td>\n      <td>66189</td>\n    </tr>\n    <tr>\n      <th>3</th>\n      <td>41</td>\n      <td>blue-collar</td>\n      <td>married</td>\n      <td>unknown</td>\n      <td>unknown</td>\n      <td>no</td>\n      <td>no</td>\n      <td>telephone</td>\n      <td>may</td>\n      <td>mon</td>\n      <td>...</td>\n      <td>999</td>\n      <td>0</td>\n      <td>nonexistent</td>\n      <td>1.1</td>\n      <td>93.994</td>\n      <td>-36.4</td>\n      <td>4.857</td>\n      <td>5191.0</td>\n      <td>no</td>\n      <td>70807</td>\n    </tr>\n    <tr>\n      <th>4</th>\n      <td>24</td>\n      <td>technician</td>\n      <td>single</td>\n      <td>professional.course</td>\n      <td>no</td>\n      <td>yes</td>\n      <td>no</td>\n      <td>telephone</td>\n      <td>may</td>\n      <td>mon</td>\n      <td>...</td>\n      <td>999</td>\n      <td>0</td>\n      <td>nonexistent</td>\n      <td>1.1</td>\n      <td>93.994</td>\n      <td>-36.4</td>\n      <td>4.857</td>\n      <td>5191.0</td>\n      <td>no</td>\n      <td>42625</td>\n    </tr>\n  </tbody>\n</table>\n<p>5 rows × 22 columns</p>\n</div>",
      "text/plain": "   age          job  marital            education  default housing loan  \\\n0   56     services  married          high.school       no      no  yes   \n1   45     services  married             basic.9y  unknown      no   no   \n2   59       admin.  married  professional.course       no      no   no   \n3   41  blue-collar  married              unknown  unknown      no   no   \n4   24   technician   single  professional.course       no     yes   no   \n\n     contact month day_of_week  ...  pdays  previous     poutcome  \\\n0  telephone   may         mon  ...    999         0  nonexistent   \n1  telephone   may         mon  ...    999         0  nonexistent   \n2  telephone   may         mon  ...    999         0  nonexistent   \n3  telephone   may         mon  ...    999         0  nonexistent   \n4  telephone   may         mon  ...    999         0  nonexistent   \n\n   emp.var.rate cons.price.idx  cons.conf.idx  euribor3m  nr.employed   y  \\\n0           1.1         93.994          -36.4      4.857       5191.0  no   \n1           1.1         93.994          -36.4      4.857       5191.0  no   \n2           1.1         93.994          -36.4      4.857       5191.0  no   \n3           1.1         93.994          -36.4      4.857       5191.0  no   \n4           1.1         93.994          -36.4      4.857       5191.0  no   \n\n   id_var  \n0   65790  \n1   55643  \n2   66189  \n3   70807  \n4   42625  \n\n[5 rows x 22 columns]"
     },
     "execution_count": 16,
     "metadata": {},
     "output_type": "execute_result"
    }
   ],
   "source": [
    "data.head()"
   ]
  },
  {
   "cell_type": "code",
   "execution_count": 10,
   "metadata": {},
   "outputs": [
    {
     "data": {
      "text/html": "<div>\n<style scoped>\n    .dataframe tbody tr th:only-of-type {\n        vertical-align: middle;\n    }\n\n    .dataframe tbody tr th {\n        vertical-align: top;\n    }\n\n    .dataframe thead th {\n        text-align: right;\n    }\n</style>\n<table border=\"1\" class=\"dataframe\">\n  <thead>\n    <tr style=\"text-align: right;\">\n      <th></th>\n      <th>count</th>\n      <th>mean</th>\n      <th>std</th>\n      <th>min</th>\n      <th>25%</th>\n      <th>50%</th>\n      <th>75%</th>\n      <th>max</th>\n      <th>unique</th>\n      <th>null</th>\n      <th>unknown</th>\n    </tr>\n  </thead>\n  <tbody>\n    <tr>\n      <th>age</th>\n      <td>37084.0</td>\n      <td>40.042714</td>\n      <td>10.432965</td>\n      <td>17.000</td>\n      <td>32.000</td>\n      <td>38.000</td>\n      <td>47.000</td>\n      <td>98.000</td>\n      <td>77</td>\n      <td>0</td>\n      <td>0</td>\n    </tr>\n    <tr>\n      <th>duration</th>\n      <td>37084.0</td>\n      <td>258.237946</td>\n      <td>258.730909</td>\n      <td>0.000</td>\n      <td>102.000</td>\n      <td>180.000</td>\n      <td>319.250</td>\n      <td>4918.000</td>\n      <td>1509</td>\n      <td>0</td>\n      <td>0</td>\n    </tr>\n    <tr>\n      <th>campaign</th>\n      <td>37084.0</td>\n      <td>2.569545</td>\n      <td>2.770611</td>\n      <td>1.000</td>\n      <td>1.000</td>\n      <td>2.000</td>\n      <td>3.000</td>\n      <td>56.000</td>\n      <td>42</td>\n      <td>0</td>\n      <td>0</td>\n    </tr>\n    <tr>\n      <th>pdays</th>\n      <td>37084.0</td>\n      <td>962.530849</td>\n      <td>186.773063</td>\n      <td>0.000</td>\n      <td>999.000</td>\n      <td>999.000</td>\n      <td>999.000</td>\n      <td>999.000</td>\n      <td>27</td>\n      <td>0</td>\n      <td>0</td>\n    </tr>\n    <tr>\n      <th>previous</th>\n      <td>37084.0</td>\n      <td>0.172986</td>\n      <td>0.495681</td>\n      <td>0.000</td>\n      <td>0.000</td>\n      <td>0.000</td>\n      <td>0.000</td>\n      <td>7.000</td>\n      <td>8</td>\n      <td>0</td>\n      <td>0</td>\n    </tr>\n    <tr>\n      <th>emp.var.rate</th>\n      <td>37084.0</td>\n      <td>0.082669</td>\n      <td>1.568997</td>\n      <td>-3.400</td>\n      <td>-1.800</td>\n      <td>1.100</td>\n      <td>1.400</td>\n      <td>1.400</td>\n      <td>10</td>\n      <td>0</td>\n      <td>0</td>\n    </tr>\n    <tr>\n      <th>cons.price.idx</th>\n      <td>37084.0</td>\n      <td>93.576076</td>\n      <td>0.578493</td>\n      <td>92.201</td>\n      <td>93.075</td>\n      <td>93.749</td>\n      <td>93.994</td>\n      <td>94.767</td>\n      <td>26</td>\n      <td>0</td>\n      <td>0</td>\n    </tr>\n    <tr>\n      <th>cons.conf.idx</th>\n      <td>37084.0</td>\n      <td>-40.505183</td>\n      <td>4.622045</td>\n      <td>-50.800</td>\n      <td>-42.700</td>\n      <td>-41.800</td>\n      <td>-36.400</td>\n      <td>-26.900</td>\n      <td>26</td>\n      <td>0</td>\n      <td>0</td>\n    </tr>\n    <tr>\n      <th>euribor3m</th>\n      <td>37084.0</td>\n      <td>3.621668</td>\n      <td>1.733972</td>\n      <td>0.634</td>\n      <td>1.344</td>\n      <td>4.857</td>\n      <td>4.961</td>\n      <td>5.045</td>\n      <td>314</td>\n      <td>0</td>\n      <td>0</td>\n    </tr>\n    <tr>\n      <th>nr.employed</th>\n      <td>37084.0</td>\n      <td>5167.058664</td>\n      <td>72.196605</td>\n      <td>4963.600</td>\n      <td>5099.100</td>\n      <td>5191.000</td>\n      <td>5228.100</td>\n      <td>5228.100</td>\n      <td>11</td>\n      <td>0</td>\n      <td>0</td>\n    </tr>\n    <tr>\n      <th>id_var</th>\n      <td>37084.0</td>\n      <td>55140.846511</td>\n      <td>11868.239469</td>\n      <td>34565.000</td>\n      <td>44872.750</td>\n      <td>55113.500</td>\n      <td>65417.250</td>\n      <td>75749.000</td>\n      <td>37084</td>\n      <td>0</td>\n      <td>0</td>\n    </tr>\n  </tbody>\n</table>\n</div>",
      "text/plain": "                  count          mean           std        min        25%  \\\nage             37084.0     40.042714     10.432965     17.000     32.000   \nduration        37084.0    258.237946    258.730909      0.000    102.000   \ncampaign        37084.0      2.569545      2.770611      1.000      1.000   \npdays           37084.0    962.530849    186.773063      0.000    999.000   \nprevious        37084.0      0.172986      0.495681      0.000      0.000   \nemp.var.rate    37084.0      0.082669      1.568997     -3.400     -1.800   \ncons.price.idx  37084.0     93.576076      0.578493     92.201     93.075   \ncons.conf.idx   37084.0    -40.505183      4.622045    -50.800    -42.700   \neuribor3m       37084.0      3.621668      1.733972      0.634      1.344   \nnr.employed     37084.0   5167.058664     72.196605   4963.600   5099.100   \nid_var          37084.0  55140.846511  11868.239469  34565.000  44872.750   \n\n                      50%        75%        max  unique  null  unknown  \nage                38.000     47.000     98.000      77     0        0  \nduration          180.000    319.250   4918.000    1509     0        0  \ncampaign            2.000      3.000     56.000      42     0        0  \npdays             999.000    999.000    999.000      27     0        0  \nprevious            0.000      0.000      7.000       8     0        0  \nemp.var.rate        1.100      1.400      1.400      10     0        0  \ncons.price.idx     93.749     93.994     94.767      26     0        0  \ncons.conf.idx     -41.800    -36.400    -26.900      26     0        0  \neuribor3m           4.857      4.961      5.045     314     0        0  \nnr.employed      5191.000   5228.100   5228.100      11     0        0  \nid_var          55113.500  65417.250  75749.000   37084     0        0  "
     },
     "execution_count": 10,
     "metadata": {},
     "output_type": "execute_result"
    }
   ],
   "source": [
    "stats = data.describe().T\n",
    "stats['unique'] = [len(data[column].unique()) for column in stats.index]\n",
    "stats['null'] = [data[column].isnull().sum() for column in stats.index]\n",
    "stats['unknown'] = [(data[column] == \"unknown\").sum() for column in stats.index]\n",
    "stats"
   ]
  },
  {
   "cell_type": "code",
   "execution_count": 11,
   "metadata": {},
   "outputs": [
    {
     "data": {
      "text/plain": "7700"
     },
     "execution_count": 11,
     "metadata": {},
     "output_type": "execute_result"
    }
   ],
   "source": [
    "(data['default'] == \"unknown\").sum()"
   ]
  },
  {
   "cell_type": "code",
   "execution_count": 12,
   "metadata": {},
   "outputs": [
    {
     "data": {
      "text/html": "<div>\n<style scoped>\n    .dataframe tbody tr th:only-of-type {\n        vertical-align: middle;\n    }\n\n    .dataframe tbody tr th {\n        vertical-align: top;\n    }\n\n    .dataframe thead th {\n        text-align: right;\n    }\n</style>\n<table border=\"1\" class=\"dataframe\">\n  <thead>\n    <tr style=\"text-align: right;\">\n      <th></th>\n      <th>count</th>\n      <th>unique</th>\n      <th>top</th>\n      <th>freq</th>\n      <th>null</th>\n      <th>unknown</th>\n    </tr>\n  </thead>\n  <tbody>\n    <tr>\n      <th>job</th>\n      <td>37084</td>\n      <td>12</td>\n      <td>admin.</td>\n      <td>9420</td>\n      <td>0</td>\n      <td>306</td>\n    </tr>\n    <tr>\n      <th>marital</th>\n      <td>37084</td>\n      <td>4</td>\n      <td>married</td>\n      <td>22479</td>\n      <td>0</td>\n      <td>72</td>\n    </tr>\n    <tr>\n      <th>education</th>\n      <td>37084</td>\n      <td>8</td>\n      <td>university.degree</td>\n      <td>10971</td>\n      <td>0</td>\n      <td>1549</td>\n    </tr>\n    <tr>\n      <th>default</th>\n      <td>37084</td>\n      <td>3</td>\n      <td>no</td>\n      <td>29382</td>\n      <td>0</td>\n      <td>7700</td>\n    </tr>\n    <tr>\n      <th>housing</th>\n      <td>37084</td>\n      <td>3</td>\n      <td>yes</td>\n      <td>19433</td>\n      <td>0</td>\n      <td>882</td>\n    </tr>\n    <tr>\n      <th>loan</th>\n      <td>37084</td>\n      <td>3</td>\n      <td>no</td>\n      <td>30561</td>\n      <td>0</td>\n      <td>882</td>\n    </tr>\n    <tr>\n      <th>contact</th>\n      <td>37084</td>\n      <td>2</td>\n      <td>cellular</td>\n      <td>23522</td>\n      <td>0</td>\n      <td>0</td>\n    </tr>\n    <tr>\n      <th>month</th>\n      <td>37084</td>\n      <td>10</td>\n      <td>may</td>\n      <td>12420</td>\n      <td>0</td>\n      <td>0</td>\n    </tr>\n    <tr>\n      <th>day_of_week</th>\n      <td>37084</td>\n      <td>5</td>\n      <td>thu</td>\n      <td>7778</td>\n      <td>0</td>\n      <td>0</td>\n    </tr>\n    <tr>\n      <th>poutcome</th>\n      <td>37084</td>\n      <td>3</td>\n      <td>nonexistent</td>\n      <td>32023</td>\n      <td>0</td>\n      <td>0</td>\n    </tr>\n    <tr>\n      <th>y</th>\n      <td>37084</td>\n      <td>2</td>\n      <td>no</td>\n      <td>32876</td>\n      <td>0</td>\n      <td>0</td>\n    </tr>\n  </tbody>\n</table>\n</div>",
      "text/plain": "             count unique                top   freq  null  unknown\njob          37084     12             admin.   9420     0      306\nmarital      37084      4            married  22479     0       72\neducation    37084      8  university.degree  10971     0     1549\ndefault      37084      3                 no  29382     0     7700\nhousing      37084      3                yes  19433     0      882\nloan         37084      3                 no  30561     0      882\ncontact      37084      2           cellular  23522     0        0\nmonth        37084     10                may  12420     0        0\nday_of_week  37084      5                thu   7778     0        0\npoutcome     37084      3        nonexistent  32023     0        0\ny            37084      2                 no  32876     0        0"
     },
     "execution_count": 12,
     "metadata": {},
     "output_type": "execute_result"
    }
   ],
   "source": [
    "cat_stats = data.describe(include=['object']).T\n",
    "cat_stats['null'] = [data[column].isnull().sum() for column in cat_stats.index]\n",
    "cat_stats['unknown'] = [(data[column] == \"unknown\").sum() for column in cat_stats.index]\n",
    "cat_stats"
   ]
  },
  {
   "cell_type": "code",
   "execution_count": 28,
   "metadata": {},
   "outputs": [
    {
     "data": {
      "text/plain": "admin.           9420\nblue-collar      8314\ntechnician       6096\nservices         3547\nmanagement       2637\nretired          1541\nentrepreneur     1309\nself-employed    1276\nhousemaid         946\nunemployed        925\nstudent           767\nunknown           306\nName: job, dtype: int64"
     },
     "execution_count": 28,
     "metadata": {},
     "output_type": "execute_result"
    }
   ],
   "source": [
    "data['job'].value_counts()"
   ]
  },
  {
   "cell_type": "code",
   "execution_count": 27,
   "metadata": {},
   "outputs": [
    {
     "data": {
      "text/plain": "married     22479\nsingle      10407\ndivorced     4126\nunknown        72\nName: marital, dtype: int64"
     },
     "execution_count": 27,
     "metadata": {},
     "output_type": "execute_result"
    }
   ],
   "source": [
    "data['marital'].value_counts()"
   ]
  },
  {
   "cell_type": "code",
   "execution_count": 26,
   "metadata": {},
   "outputs": [
    {
     "data": {
      "text/plain": "university.degree      10971\nhigh.school             8542\nbasic.9y                5421\nprofessional.course     4746\nbasic.4y                3765\nbasic.6y                2074\nunknown                 1549\nilliterate                16\nName: education, dtype: int64"
     },
     "execution_count": 26,
     "metadata": {},
     "output_type": "execute_result"
    }
   ],
   "source": [
    "data['education'].value_counts()"
   ]
  },
  {
   "cell_type": "code",
   "execution_count": 29,
   "metadata": {},
   "outputs": [
    {
     "data": {
      "text/plain": "no         29382\nunknown     7700\nyes            2\nName: default, dtype: int64"
     },
     "execution_count": 29,
     "metadata": {},
     "output_type": "execute_result"
    }
   ],
   "source": [
    "data['default'].value_counts()"
   ]
  },
  {
   "cell_type": "markdown",
   "metadata": {},
   "source": [
    "What does all this information tell us?\n",
    "\n",
    "1) There is not null values\n",
    "\n",
    "2) We can see which columns don't contain useful information for our predictions:\n",
    "* The id_var column contains a unique identifier for each row and will not be useful for prediction\n",
    "* The duration column is the last contact duration. This attribute highly affects the output target (e.g., if duration=0 then y='no'). Yet, the duration is not known before a call is performed. Also, after the end of the call y is obviously known. Thus, this input should only be included for benchmark purposes and should be discarded if the intention is to have a realistic predictive model.\n",
    "\n",
    "3) There are some categorical columns that contain \"unknown\" values. We will need to figure out how to address those. One option is to transform these features to one-hot encode (get_dummmies) and then delete the columns referring to the \"unknown\".\n",
    "\n",
    "4) The column y is categorical, so we have to transform it to numerical.\n",
    "\n",
    "4) There are some columns that are currently numeric that should be categorical (low number of unique values): previous, nr_employeed, emp_var_rate, cons.price.idx, cons.conf.idx, pdays, euriborn (numerical to categorial - ?) - Try in a second iteration.\n"
   ]
  },
  {
   "cell_type": "code",
   "execution_count": 31,
   "metadata": {},
   "outputs": [],
   "source": [
    "data.drop(columns = 'id_var', inplace = True)"
   ]
  },
  {
   "cell_type": "code",
   "execution_count": null,
   "metadata": {},
   "outputs": [],
   "source": [
    "target = website_dummy[['Type']]\n",
    "target.head()"
   ]
  },
  {
   "cell_type": "code",
   "execution_count": 32,
   "metadata": {},
   "outputs": [
    {
     "data": {
      "text/html": "<div>\n<style scoped>\n    .dataframe tbody tr th:only-of-type {\n        vertical-align: middle;\n    }\n\n    .dataframe tbody tr th {\n        vertical-align: top;\n    }\n\n    .dataframe thead th {\n        text-align: right;\n    }\n</style>\n<table border=\"1\" class=\"dataframe\">\n  <thead>\n    <tr style=\"text-align: right;\">\n      <th></th>\n      <th>age</th>\n      <th>duration</th>\n      <th>campaign</th>\n      <th>pdays</th>\n      <th>previous</th>\n      <th>emp.var.rate</th>\n      <th>cons.price.idx</th>\n      <th>cons.conf.idx</th>\n      <th>euribor3m</th>\n      <th>nr.employed</th>\n    </tr>\n  </thead>\n  <tbody>\n    <tr>\n      <th>age</th>\n      <td>1.000000</td>\n      <td>-0.001500</td>\n      <td>0.002777</td>\n      <td>-0.035689</td>\n      <td>0.022897</td>\n      <td>-0.000099</td>\n      <td>0.002773</td>\n      <td>0.129262</td>\n      <td>0.010845</td>\n      <td>-0.018226</td>\n    </tr>\n    <tr>\n      <th>duration</th>\n      <td>-0.001500</td>\n      <td>1.000000</td>\n      <td>-0.072291</td>\n      <td>-0.048254</td>\n      <td>0.022098</td>\n      <td>-0.030431</td>\n      <td>0.004068</td>\n      <td>-0.009096</td>\n      <td>-0.035182</td>\n      <td>-0.046764</td>\n    </tr>\n    <tr>\n      <th>campaign</th>\n      <td>0.002777</td>\n      <td>-0.072291</td>\n      <td>1.000000</td>\n      <td>0.052624</td>\n      <td>-0.078300</td>\n      <td>0.150390</td>\n      <td>0.126598</td>\n      <td>-0.012388</td>\n      <td>0.134640</td>\n      <td>0.143609</td>\n    </tr>\n    <tr>\n      <th>pdays</th>\n      <td>-0.035689</td>\n      <td>-0.048254</td>\n      <td>0.052624</td>\n      <td>1.000000</td>\n      <td>-0.586728</td>\n      <td>0.271053</td>\n      <td>0.078072</td>\n      <td>-0.089587</td>\n      <td>0.297038</td>\n      <td>0.372449</td>\n    </tr>\n    <tr>\n      <th>previous</th>\n      <td>0.022897</td>\n      <td>0.022098</td>\n      <td>-0.078300</td>\n      <td>-0.586728</td>\n      <td>1.000000</td>\n      <td>-0.418880</td>\n      <td>-0.200008</td>\n      <td>-0.052069</td>\n      <td>-0.453220</td>\n      <td>-0.500861</td>\n    </tr>\n    <tr>\n      <th>emp.var.rate</th>\n      <td>-0.000099</td>\n      <td>-0.030431</td>\n      <td>0.150390</td>\n      <td>0.271053</td>\n      <td>-0.418880</td>\n      <td>1.000000</td>\n      <td>0.774727</td>\n      <td>0.199778</td>\n      <td>0.972243</td>\n      <td>0.906857</td>\n    </tr>\n    <tr>\n      <th>cons.price.idx</th>\n      <td>0.002773</td>\n      <td>0.004068</td>\n      <td>0.126598</td>\n      <td>0.078072</td>\n      <td>-0.200008</td>\n      <td>0.774727</td>\n      <td>1.000000</td>\n      <td>0.062526</td>\n      <td>0.687433</td>\n      <td>0.521010</td>\n    </tr>\n    <tr>\n      <th>cons.conf.idx</th>\n      <td>0.129262</td>\n      <td>-0.009096</td>\n      <td>-0.012388</td>\n      <td>-0.089587</td>\n      <td>-0.052069</td>\n      <td>0.199778</td>\n      <td>0.062526</td>\n      <td>1.000000</td>\n      <td>0.280493</td>\n      <td>0.102931</td>\n    </tr>\n    <tr>\n      <th>euribor3m</th>\n      <td>0.010845</td>\n      <td>-0.035182</td>\n      <td>0.134640</td>\n      <td>0.297038</td>\n      <td>-0.453220</td>\n      <td>0.972243</td>\n      <td>0.687433</td>\n      <td>0.280493</td>\n      <td>1.000000</td>\n      <td>0.945145</td>\n    </tr>\n    <tr>\n      <th>nr.employed</th>\n      <td>-0.018226</td>\n      <td>-0.046764</td>\n      <td>0.143609</td>\n      <td>0.372449</td>\n      <td>-0.500861</td>\n      <td>0.906857</td>\n      <td>0.521010</td>\n      <td>0.102931</td>\n      <td>0.945145</td>\n      <td>1.000000</td>\n    </tr>\n  </tbody>\n</table>\n</div>",
      "text/plain": "                     age  duration  campaign     pdays  previous  \\\nage             1.000000 -0.001500  0.002777 -0.035689  0.022897   \nduration       -0.001500  1.000000 -0.072291 -0.048254  0.022098   \ncampaign        0.002777 -0.072291  1.000000  0.052624 -0.078300   \npdays          -0.035689 -0.048254  0.052624  1.000000 -0.586728   \nprevious        0.022897  0.022098 -0.078300 -0.586728  1.000000   \nemp.var.rate   -0.000099 -0.030431  0.150390  0.271053 -0.418880   \ncons.price.idx  0.002773  0.004068  0.126598  0.078072 -0.200008   \ncons.conf.idx   0.129262 -0.009096 -0.012388 -0.089587 -0.052069   \neuribor3m       0.010845 -0.035182  0.134640  0.297038 -0.453220   \nnr.employed    -0.018226 -0.046764  0.143609  0.372449 -0.500861   \n\n                emp.var.rate  cons.price.idx  cons.conf.idx  euribor3m  \\\nage                -0.000099        0.002773       0.129262   0.010845   \nduration           -0.030431        0.004068      -0.009096  -0.035182   \ncampaign            0.150390        0.126598      -0.012388   0.134640   \npdays               0.271053        0.078072      -0.089587   0.297038   \nprevious           -0.418880       -0.200008      -0.052069  -0.453220   \nemp.var.rate        1.000000        0.774727       0.199778   0.972243   \ncons.price.idx      0.774727        1.000000       0.062526   0.687433   \ncons.conf.idx       0.199778        0.062526       1.000000   0.280493   \neuribor3m           0.972243        0.687433       0.280493   1.000000   \nnr.employed         0.906857        0.521010       0.102931   0.945145   \n\n                nr.employed  \nage               -0.018226  \nduration          -0.046764  \ncampaign           0.143609  \npdays              0.372449  \nprevious          -0.500861  \nemp.var.rate       0.906857  \ncons.price.idx     0.521010  \ncons.conf.idx      0.102931  \neuribor3m          0.945145  \nnr.employed        1.000000  "
     },
     "execution_count": 32,
     "metadata": {},
     "output_type": "execute_result"
    }
   ],
   "source": [
    "data.corr()"
   ]
  },
  {
   "cell_type": "code",
   "execution_count": null,
   "metadata": {},
   "outputs": [],
   "source": []
  },
  {
   "cell_type": "code",
   "execution_count": null,
   "metadata": {},
   "outputs": [],
   "source": [
    "features = ['Neighborhood', 'OverallQual', 'OverallCond', \n",
    "            'FullBath', 'HalfBath', 'BedroomAbvGr', \n",
    "            'MoSold', 'YrSold', 'SaleType', 'SaleCondition', \n",
    "            'SalePrice', 'Total Sqft', 'Price Per Sqft']"
   ]
  }
 ]
}