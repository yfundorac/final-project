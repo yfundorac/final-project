{
 "nbformat": 4,
 "nbformat_minor": 2,
 "metadata": {
  "language_info": {
   "name": "python",
   "codemirror_mode": {
    "name": "ipython",
    "version": 3
   },
   "version": "3.7.2-final"
  },
  "orig_nbformat": 2,
  "file_extension": ".py",
  "mimetype": "text/x-python",
  "name": "python",
  "npconvert_exporter": "python",
  "pygments_lexer": "ipython3",
  "version": 3,
  "kernelspec": {
   "name": "python37232bit7dbaf979d223448c9c9c090149b73ed6",
   "display_name": "Python 3.7.2 32-bit"
  }
 },
 "cells": [
  {
   "cell_type": "code",
   "execution_count": 1,
   "metadata": {},
   "outputs": [],
   "source": [
    "import pandas as pd\n",
    "import numpy as np"
   ]
  },
  {
   "cell_type": "code",
   "execution_count": 2,
   "metadata": {},
   "outputs": [],
   "source": [
    "data = pd.read_csv(\"train-bank-campaign-data.csv\")"
   ]
  },
  {
   "cell_type": "code",
   "execution_count": 3,
   "metadata": {},
   "outputs": [
    {
     "data": {
      "text/html": "<div>\n<style scoped>\n    .dataframe tbody tr th:only-of-type {\n        vertical-align: middle;\n    }\n\n    .dataframe tbody tr th {\n        vertical-align: top;\n    }\n\n    .dataframe thead th {\n        text-align: right;\n    }\n</style>\n<table border=\"1\" class=\"dataframe\">\n  <thead>\n    <tr style=\"text-align: right;\">\n      <th></th>\n      <th>age</th>\n      <th>job</th>\n      <th>marital</th>\n      <th>education</th>\n      <th>default</th>\n      <th>housing</th>\n      <th>loan</th>\n      <th>contact</th>\n      <th>month</th>\n      <th>day_of_week</th>\n      <th>...</th>\n      <th>pdays</th>\n      <th>previous</th>\n      <th>poutcome</th>\n      <th>emp.var.rate</th>\n      <th>cons.price.idx</th>\n      <th>cons.conf.idx</th>\n      <th>euribor3m</th>\n      <th>nr.employed</th>\n      <th>y</th>\n      <th>id_var</th>\n    </tr>\n  </thead>\n  <tbody>\n    <tr>\n      <th>0</th>\n      <td>56</td>\n      <td>services</td>\n      <td>married</td>\n      <td>high.school</td>\n      <td>no</td>\n      <td>no</td>\n      <td>yes</td>\n      <td>telephone</td>\n      <td>may</td>\n      <td>mon</td>\n      <td>...</td>\n      <td>999</td>\n      <td>0</td>\n      <td>nonexistent</td>\n      <td>1.1</td>\n      <td>93.994</td>\n      <td>-36.4</td>\n      <td>4.857</td>\n      <td>5191.0</td>\n      <td>no</td>\n      <td>65790</td>\n    </tr>\n    <tr>\n      <th>1</th>\n      <td>45</td>\n      <td>services</td>\n      <td>married</td>\n      <td>basic.9y</td>\n      <td>unknown</td>\n      <td>no</td>\n      <td>no</td>\n      <td>telephone</td>\n      <td>may</td>\n      <td>mon</td>\n      <td>...</td>\n      <td>999</td>\n      <td>0</td>\n      <td>nonexistent</td>\n      <td>1.1</td>\n      <td>93.994</td>\n      <td>-36.4</td>\n      <td>4.857</td>\n      <td>5191.0</td>\n      <td>no</td>\n      <td>55643</td>\n    </tr>\n    <tr>\n      <th>2</th>\n      <td>59</td>\n      <td>admin.</td>\n      <td>married</td>\n      <td>professional.course</td>\n      <td>no</td>\n      <td>no</td>\n      <td>no</td>\n      <td>telephone</td>\n      <td>may</td>\n      <td>mon</td>\n      <td>...</td>\n      <td>999</td>\n      <td>0</td>\n      <td>nonexistent</td>\n      <td>1.1</td>\n      <td>93.994</td>\n      <td>-36.4</td>\n      <td>4.857</td>\n      <td>5191.0</td>\n      <td>no</td>\n      <td>66189</td>\n    </tr>\n    <tr>\n      <th>3</th>\n      <td>41</td>\n      <td>blue-collar</td>\n      <td>married</td>\n      <td>unknown</td>\n      <td>unknown</td>\n      <td>no</td>\n      <td>no</td>\n      <td>telephone</td>\n      <td>may</td>\n      <td>mon</td>\n      <td>...</td>\n      <td>999</td>\n      <td>0</td>\n      <td>nonexistent</td>\n      <td>1.1</td>\n      <td>93.994</td>\n      <td>-36.4</td>\n      <td>4.857</td>\n      <td>5191.0</td>\n      <td>no</td>\n      <td>70807</td>\n    </tr>\n    <tr>\n      <th>4</th>\n      <td>24</td>\n      <td>technician</td>\n      <td>single</td>\n      <td>professional.course</td>\n      <td>no</td>\n      <td>yes</td>\n      <td>no</td>\n      <td>telephone</td>\n      <td>may</td>\n      <td>mon</td>\n      <td>...</td>\n      <td>999</td>\n      <td>0</td>\n      <td>nonexistent</td>\n      <td>1.1</td>\n      <td>93.994</td>\n      <td>-36.4</td>\n      <td>4.857</td>\n      <td>5191.0</td>\n      <td>no</td>\n      <td>42625</td>\n    </tr>\n  </tbody>\n</table>\n<p>5 rows × 22 columns</p>\n</div>",
      "text/plain": "   age          job  marital            education  default housing loan  \\\n0   56     services  married          high.school       no      no  yes   \n1   45     services  married             basic.9y  unknown      no   no   \n2   59       admin.  married  professional.course       no      no   no   \n3   41  blue-collar  married              unknown  unknown      no   no   \n4   24   technician   single  professional.course       no     yes   no   \n\n     contact month day_of_week  ...  pdays  previous     poutcome  \\\n0  telephone   may         mon  ...    999         0  nonexistent   \n1  telephone   may         mon  ...    999         0  nonexistent   \n2  telephone   may         mon  ...    999         0  nonexistent   \n3  telephone   may         mon  ...    999         0  nonexistent   \n4  telephone   may         mon  ...    999         0  nonexistent   \n\n   emp.var.rate cons.price.idx  cons.conf.idx  euribor3m  nr.employed   y  \\\n0           1.1         93.994          -36.4      4.857       5191.0  no   \n1           1.1         93.994          -36.4      4.857       5191.0  no   \n2           1.1         93.994          -36.4      4.857       5191.0  no   \n3           1.1         93.994          -36.4      4.857       5191.0  no   \n4           1.1         93.994          -36.4      4.857       5191.0  no   \n\n   id_var  \n0   65790  \n1   55643  \n2   66189  \n3   70807  \n4   42625  \n\n[5 rows x 22 columns]"
     },
     "execution_count": 3,
     "metadata": {},
     "output_type": "execute_result"
    }
   ],
   "source": [
    "data.head()"
   ]
  },
  {
   "cell_type": "code",
   "execution_count": 4,
   "metadata": {},
   "outputs": [
    {
     "data": {
      "text/plain": "(37084, 22)"
     },
     "execution_count": 4,
     "metadata": {},
     "output_type": "execute_result"
    }
   ],
   "source": [
    "data.shape"
   ]
  },
  {
   "cell_type": "code",
   "execution_count": 31,
   "metadata": {},
   "outputs": [
    {
     "data": {
      "text/plain": "age                 int64\njob                object\nmarital            object\neducation          object\ndefault            object\nhousing            object\nloan               object\ncontact            object\nmonth              object\nday_of_week        object\ncampaign            int64\npdays               int64\nprevious            int64\npoutcome           object\nemp.var.rate      float64\ncons.price.idx    float64\ncons.conf.idx     float64\neuribor3m         float64\nnr.employed       float64\ntarget              int32\ndtype: object"
     },
     "execution_count": 31,
     "metadata": {},
     "output_type": "execute_result"
    }
   ],
   "source": [
    "data.dtypes"
   ]
  },
  {
   "cell_type": "code",
   "execution_count": 5,
   "metadata": {},
   "outputs": [
    {
     "data": {
      "text/html": "<div>\n<style scoped>\n    .dataframe tbody tr th:only-of-type {\n        vertical-align: middle;\n    }\n\n    .dataframe tbody tr th {\n        vertical-align: top;\n    }\n\n    .dataframe thead th {\n        text-align: right;\n    }\n</style>\n<table border=\"1\" class=\"dataframe\">\n  <thead>\n    <tr style=\"text-align: right;\">\n      <th></th>\n      <th>count</th>\n      <th>mean</th>\n      <th>std</th>\n      <th>min</th>\n      <th>25%</th>\n      <th>50%</th>\n      <th>75%</th>\n      <th>max</th>\n      <th>unique</th>\n      <th>null</th>\n      <th>unknown</th>\n    </tr>\n  </thead>\n  <tbody>\n    <tr>\n      <th>age</th>\n      <td>37084.0</td>\n      <td>40.042714</td>\n      <td>10.432965</td>\n      <td>17.000</td>\n      <td>32.000</td>\n      <td>38.000</td>\n      <td>47.000</td>\n      <td>98.000</td>\n      <td>77</td>\n      <td>0</td>\n      <td>0</td>\n    </tr>\n    <tr>\n      <th>duration</th>\n      <td>37084.0</td>\n      <td>258.237946</td>\n      <td>258.730909</td>\n      <td>0.000</td>\n      <td>102.000</td>\n      <td>180.000</td>\n      <td>319.250</td>\n      <td>4918.000</td>\n      <td>1509</td>\n      <td>0</td>\n      <td>0</td>\n    </tr>\n    <tr>\n      <th>campaign</th>\n      <td>37084.0</td>\n      <td>2.569545</td>\n      <td>2.770611</td>\n      <td>1.000</td>\n      <td>1.000</td>\n      <td>2.000</td>\n      <td>3.000</td>\n      <td>56.000</td>\n      <td>42</td>\n      <td>0</td>\n      <td>0</td>\n    </tr>\n    <tr>\n      <th>pdays</th>\n      <td>37084.0</td>\n      <td>962.530849</td>\n      <td>186.773063</td>\n      <td>0.000</td>\n      <td>999.000</td>\n      <td>999.000</td>\n      <td>999.000</td>\n      <td>999.000</td>\n      <td>27</td>\n      <td>0</td>\n      <td>0</td>\n    </tr>\n    <tr>\n      <th>previous</th>\n      <td>37084.0</td>\n      <td>0.172986</td>\n      <td>0.495681</td>\n      <td>0.000</td>\n      <td>0.000</td>\n      <td>0.000</td>\n      <td>0.000</td>\n      <td>7.000</td>\n      <td>8</td>\n      <td>0</td>\n      <td>0</td>\n    </tr>\n    <tr>\n      <th>emp.var.rate</th>\n      <td>37084.0</td>\n      <td>0.082669</td>\n      <td>1.568997</td>\n      <td>-3.400</td>\n      <td>-1.800</td>\n      <td>1.100</td>\n      <td>1.400</td>\n      <td>1.400</td>\n      <td>10</td>\n      <td>0</td>\n      <td>0</td>\n    </tr>\n    <tr>\n      <th>cons.price.idx</th>\n      <td>37084.0</td>\n      <td>93.576076</td>\n      <td>0.578493</td>\n      <td>92.201</td>\n      <td>93.075</td>\n      <td>93.749</td>\n      <td>93.994</td>\n      <td>94.767</td>\n      <td>26</td>\n      <td>0</td>\n      <td>0</td>\n    </tr>\n    <tr>\n      <th>cons.conf.idx</th>\n      <td>37084.0</td>\n      <td>-40.505183</td>\n      <td>4.622045</td>\n      <td>-50.800</td>\n      <td>-42.700</td>\n      <td>-41.800</td>\n      <td>-36.400</td>\n      <td>-26.900</td>\n      <td>26</td>\n      <td>0</td>\n      <td>0</td>\n    </tr>\n    <tr>\n      <th>euribor3m</th>\n      <td>37084.0</td>\n      <td>3.621668</td>\n      <td>1.733972</td>\n      <td>0.634</td>\n      <td>1.344</td>\n      <td>4.857</td>\n      <td>4.961</td>\n      <td>5.045</td>\n      <td>314</td>\n      <td>0</td>\n      <td>0</td>\n    </tr>\n    <tr>\n      <th>nr.employed</th>\n      <td>37084.0</td>\n      <td>5167.058664</td>\n      <td>72.196605</td>\n      <td>4963.600</td>\n      <td>5099.100</td>\n      <td>5191.000</td>\n      <td>5228.100</td>\n      <td>5228.100</td>\n      <td>11</td>\n      <td>0</td>\n      <td>0</td>\n    </tr>\n    <tr>\n      <th>id_var</th>\n      <td>37084.0</td>\n      <td>55140.846511</td>\n      <td>11868.239469</td>\n      <td>34565.000</td>\n      <td>44872.750</td>\n      <td>55113.500</td>\n      <td>65417.250</td>\n      <td>75749.000</td>\n      <td>37084</td>\n      <td>0</td>\n      <td>0</td>\n    </tr>\n  </tbody>\n</table>\n</div>",
      "text/plain": "                  count          mean           std        min        25%  \\\nage             37084.0     40.042714     10.432965     17.000     32.000   \nduration        37084.0    258.237946    258.730909      0.000    102.000   \ncampaign        37084.0      2.569545      2.770611      1.000      1.000   \npdays           37084.0    962.530849    186.773063      0.000    999.000   \nprevious        37084.0      0.172986      0.495681      0.000      0.000   \nemp.var.rate    37084.0      0.082669      1.568997     -3.400     -1.800   \ncons.price.idx  37084.0     93.576076      0.578493     92.201     93.075   \ncons.conf.idx   37084.0    -40.505183      4.622045    -50.800    -42.700   \neuribor3m       37084.0      3.621668      1.733972      0.634      1.344   \nnr.employed     37084.0   5167.058664     72.196605   4963.600   5099.100   \nid_var          37084.0  55140.846511  11868.239469  34565.000  44872.750   \n\n                      50%        75%        max  unique  null  unknown  \nage                38.000     47.000     98.000      77     0        0  \nduration          180.000    319.250   4918.000    1509     0        0  \ncampaign            2.000      3.000     56.000      42     0        0  \npdays             999.000    999.000    999.000      27     0        0  \nprevious            0.000      0.000      7.000       8     0        0  \nemp.var.rate        1.100      1.400      1.400      10     0        0  \ncons.price.idx     93.749     93.994     94.767      26     0        0  \ncons.conf.idx     -41.800    -36.400    -26.900      26     0        0  \neuribor3m           4.857      4.961      5.045     314     0        0  \nnr.employed      5191.000   5228.100   5228.100      11     0        0  \nid_var          55113.500  65417.250  75749.000   37084     0        0  "
     },
     "execution_count": 5,
     "metadata": {},
     "output_type": "execute_result"
    }
   ],
   "source": [
    "stats = data.describe().T\n",
    "stats['unique'] = [len(data[column].unique()) for column in stats.index]\n",
    "stats['null'] = [data[column].isnull().sum() for column in stats.index]\n",
    "stats['unknown'] = [(data[column] == \"unknown\").sum() for column in stats.index]\n",
    "stats"
   ]
  },
  {
   "cell_type": "code",
   "execution_count": 6,
   "metadata": {},
   "outputs": [
    {
     "data": {
      "text/html": "<div>\n<style scoped>\n    .dataframe tbody tr th:only-of-type {\n        vertical-align: middle;\n    }\n\n    .dataframe tbody tr th {\n        vertical-align: top;\n    }\n\n    .dataframe thead th {\n        text-align: right;\n    }\n</style>\n<table border=\"1\" class=\"dataframe\">\n  <thead>\n    <tr style=\"text-align: right;\">\n      <th></th>\n      <th>count</th>\n      <th>unique</th>\n      <th>top</th>\n      <th>freq</th>\n      <th>null</th>\n      <th>unknown</th>\n    </tr>\n  </thead>\n  <tbody>\n    <tr>\n      <th>job</th>\n      <td>37084</td>\n      <td>12</td>\n      <td>admin.</td>\n      <td>9420</td>\n      <td>0</td>\n      <td>306</td>\n    </tr>\n    <tr>\n      <th>marital</th>\n      <td>37084</td>\n      <td>4</td>\n      <td>married</td>\n      <td>22479</td>\n      <td>0</td>\n      <td>72</td>\n    </tr>\n    <tr>\n      <th>education</th>\n      <td>37084</td>\n      <td>8</td>\n      <td>university.degree</td>\n      <td>10971</td>\n      <td>0</td>\n      <td>1549</td>\n    </tr>\n    <tr>\n      <th>default</th>\n      <td>37084</td>\n      <td>3</td>\n      <td>no</td>\n      <td>29382</td>\n      <td>0</td>\n      <td>7700</td>\n    </tr>\n    <tr>\n      <th>housing</th>\n      <td>37084</td>\n      <td>3</td>\n      <td>yes</td>\n      <td>19433</td>\n      <td>0</td>\n      <td>882</td>\n    </tr>\n    <tr>\n      <th>loan</th>\n      <td>37084</td>\n      <td>3</td>\n      <td>no</td>\n      <td>30561</td>\n      <td>0</td>\n      <td>882</td>\n    </tr>\n    <tr>\n      <th>contact</th>\n      <td>37084</td>\n      <td>2</td>\n      <td>cellular</td>\n      <td>23522</td>\n      <td>0</td>\n      <td>0</td>\n    </tr>\n    <tr>\n      <th>month</th>\n      <td>37084</td>\n      <td>10</td>\n      <td>may</td>\n      <td>12420</td>\n      <td>0</td>\n      <td>0</td>\n    </tr>\n    <tr>\n      <th>day_of_week</th>\n      <td>37084</td>\n      <td>5</td>\n      <td>thu</td>\n      <td>7778</td>\n      <td>0</td>\n      <td>0</td>\n    </tr>\n    <tr>\n      <th>poutcome</th>\n      <td>37084</td>\n      <td>3</td>\n      <td>nonexistent</td>\n      <td>32023</td>\n      <td>0</td>\n      <td>0</td>\n    </tr>\n    <tr>\n      <th>y</th>\n      <td>37084</td>\n      <td>2</td>\n      <td>no</td>\n      <td>32876</td>\n      <td>0</td>\n      <td>0</td>\n    </tr>\n  </tbody>\n</table>\n</div>",
      "text/plain": "             count unique                top   freq  null  unknown\njob          37084     12             admin.   9420     0      306\nmarital      37084      4            married  22479     0       72\neducation    37084      8  university.degree  10971     0     1549\ndefault      37084      3                 no  29382     0     7700\nhousing      37084      3                yes  19433     0      882\nloan         37084      3                 no  30561     0      882\ncontact      37084      2           cellular  23522     0        0\nmonth        37084     10                may  12420     0        0\nday_of_week  37084      5                thu   7778     0        0\npoutcome     37084      3        nonexistent  32023     0        0\ny            37084      2                 no  32876     0        0"
     },
     "execution_count": 6,
     "metadata": {},
     "output_type": "execute_result"
    }
   ],
   "source": [
    "cat_stats = data.describe(include=['object']).T\n",
    "cat_stats['null'] = [data[column].isnull().sum() for column in cat_stats.index]\n",
    "cat_stats['unknown'] = [(data[column] == \"unknown\").sum() for column in cat_stats.index]\n",
    "cat_stats"
   ]
  },
  {
   "cell_type": "markdown",
   "metadata": {},
   "source": [
    "What does all this information tell us?\n",
    "\n",
    "1) There is not null values\n",
    "\n",
    "2) We can see which columns don't contain useful information for our predictions:\n",
    "* The id_var column contains a unique identifier for each row and will not be useful for prediction\n",
    "* The duration column is the last contact duration. This attribute highly affects the output target (e.g., if duration=0 then y='no'). Yet, the duration is not known before a call is performed. Also, after the end of the call y is obviously known. Thus, this input should only be included for benchmark purposes and should be discarded if the intention is to have a realistic predictive model.\n",
    "\n",
    "3) The column y is categorical, so we have to transform it to numerical.\n",
    "\n",
    "4) We should analyze the correlation of numerical features and delete the columns highly correlated.\n",
    "\n",
    "5) Transform categorical features to numerical using one-hot encode (get_dummmies)\n",
    "\n",
    "6) There are some categorical columns that contain \"unknown\" values. One option is after transform these, delete the columns referring to the \"unknown\"."
   ]
  },
  {
   "cell_type": "code",
   "execution_count": 7,
   "metadata": {},
   "outputs": [],
   "source": [
    "data.drop(columns = ['id_var', 'duration'], inplace = True)"
   ]
  },
  {
   "cell_type": "code",
   "execution_count": 8,
   "metadata": {},
   "outputs": [],
   "source": [
    "# Label Encoding\n",
    "data['target'] = np.where(data['y'] == \"yes\", 1, 0)\n",
    "data.drop(columns = 'y', inplace = True)"
   ]
  },
  {
   "cell_type": "code",
   "execution_count": 26,
   "metadata": {},
   "outputs": [
    {
     "data": {
      "text/html": "<div>\n<style scoped>\n    .dataframe tbody tr th:only-of-type {\n        vertical-align: middle;\n    }\n\n    .dataframe tbody tr th {\n        vertical-align: top;\n    }\n\n    .dataframe thead th {\n        text-align: right;\n    }\n</style>\n<table border=\"1\" class=\"dataframe\">\n  <thead>\n    <tr style=\"text-align: right;\">\n      <th></th>\n      <th>age</th>\n      <th>job</th>\n      <th>marital</th>\n      <th>education</th>\n      <th>default</th>\n      <th>housing</th>\n      <th>loan</th>\n      <th>contact</th>\n      <th>month</th>\n      <th>day_of_week</th>\n      <th>campaign</th>\n      <th>pdays</th>\n      <th>previous</th>\n      <th>poutcome</th>\n      <th>emp.var.rate</th>\n      <th>cons.price.idx</th>\n      <th>cons.conf.idx</th>\n      <th>euribor3m</th>\n      <th>nr.employed</th>\n    </tr>\n  </thead>\n  <tbody>\n    <tr>\n      <th>0</th>\n      <td>56</td>\n      <td>services</td>\n      <td>married</td>\n      <td>high.school</td>\n      <td>no</td>\n      <td>no</td>\n      <td>yes</td>\n      <td>telephone</td>\n      <td>may</td>\n      <td>mon</td>\n      <td>1</td>\n      <td>999</td>\n      <td>0</td>\n      <td>nonexistent</td>\n      <td>1.1</td>\n      <td>93.994</td>\n      <td>-36.4</td>\n      <td>4.857</td>\n      <td>5191.0</td>\n    </tr>\n    <tr>\n      <th>1</th>\n      <td>45</td>\n      <td>services</td>\n      <td>married</td>\n      <td>basic.9y</td>\n      <td>unknown</td>\n      <td>no</td>\n      <td>no</td>\n      <td>telephone</td>\n      <td>may</td>\n      <td>mon</td>\n      <td>1</td>\n      <td>999</td>\n      <td>0</td>\n      <td>nonexistent</td>\n      <td>1.1</td>\n      <td>93.994</td>\n      <td>-36.4</td>\n      <td>4.857</td>\n      <td>5191.0</td>\n    </tr>\n    <tr>\n      <th>2</th>\n      <td>59</td>\n      <td>admin.</td>\n      <td>married</td>\n      <td>professional.course</td>\n      <td>no</td>\n      <td>no</td>\n      <td>no</td>\n      <td>telephone</td>\n      <td>may</td>\n      <td>mon</td>\n      <td>1</td>\n      <td>999</td>\n      <td>0</td>\n      <td>nonexistent</td>\n      <td>1.1</td>\n      <td>93.994</td>\n      <td>-36.4</td>\n      <td>4.857</td>\n      <td>5191.0</td>\n    </tr>\n    <tr>\n      <th>3</th>\n      <td>41</td>\n      <td>blue-collar</td>\n      <td>married</td>\n      <td>unknown</td>\n      <td>unknown</td>\n      <td>no</td>\n      <td>no</td>\n      <td>telephone</td>\n      <td>may</td>\n      <td>mon</td>\n      <td>1</td>\n      <td>999</td>\n      <td>0</td>\n      <td>nonexistent</td>\n      <td>1.1</td>\n      <td>93.994</td>\n      <td>-36.4</td>\n      <td>4.857</td>\n      <td>5191.0</td>\n    </tr>\n    <tr>\n      <th>4</th>\n      <td>24</td>\n      <td>technician</td>\n      <td>single</td>\n      <td>professional.course</td>\n      <td>no</td>\n      <td>yes</td>\n      <td>no</td>\n      <td>telephone</td>\n      <td>may</td>\n      <td>mon</td>\n      <td>1</td>\n      <td>999</td>\n      <td>0</td>\n      <td>nonexistent</td>\n      <td>1.1</td>\n      <td>93.994</td>\n      <td>-36.4</td>\n      <td>4.857</td>\n      <td>5191.0</td>\n    </tr>\n  </tbody>\n</table>\n</div>",
      "text/plain": "   age          job  marital            education  default housing loan  \\\n0   56     services  married          high.school       no      no  yes   \n1   45     services  married             basic.9y  unknown      no   no   \n2   59       admin.  married  professional.course       no      no   no   \n3   41  blue-collar  married              unknown  unknown      no   no   \n4   24   technician   single  professional.course       no     yes   no   \n\n     contact month day_of_week  campaign  pdays  previous     poutcome  \\\n0  telephone   may         mon         1    999         0  nonexistent   \n1  telephone   may         mon         1    999         0  nonexistent   \n2  telephone   may         mon         1    999         0  nonexistent   \n3  telephone   may         mon         1    999         0  nonexistent   \n4  telephone   may         mon         1    999         0  nonexistent   \n\n   emp.var.rate  cons.price.idx  cons.conf.idx  euribor3m  nr.employed  \n0           1.1          93.994          -36.4      4.857       5191.0  \n1           1.1          93.994          -36.4      4.857       5191.0  \n2           1.1          93.994          -36.4      4.857       5191.0  \n3           1.1          93.994          -36.4      4.857       5191.0  \n4           1.1          93.994          -36.4      4.857       5191.0  "
     },
     "execution_count": 26,
     "metadata": {},
     "output_type": "execute_result"
    }
   ],
   "source": [
    "features = data[[col for col in data if col not in ['target']]].reset_index(drop = True)\n",
    "features.head()"
   ]
  },
  {
   "cell_type": "code",
   "execution_count": 10,
   "metadata": {},
   "outputs": [],
   "source": [
    "target = data[['target']]"
   ]
  },
  {
   "cell_type": "code",
   "execution_count": 11,
   "metadata": {},
   "outputs": [
    {
     "data": {
      "text/html": "<div>\n<style scoped>\n    .dataframe tbody tr th:only-of-type {\n        vertical-align: middle;\n    }\n\n    .dataframe tbody tr th {\n        vertical-align: top;\n    }\n\n    .dataframe thead th {\n        text-align: right;\n    }\n</style>\n<table border=\"1\" class=\"dataframe\">\n  <thead>\n    <tr style=\"text-align: right;\">\n      <th></th>\n      <th>age</th>\n      <th>campaign</th>\n      <th>pdays</th>\n      <th>previous</th>\n      <th>emp.var.rate</th>\n      <th>cons.price.idx</th>\n      <th>cons.conf.idx</th>\n      <th>euribor3m</th>\n      <th>nr.employed</th>\n    </tr>\n  </thead>\n  <tbody>\n    <tr>\n      <th>age</th>\n      <td>1.000000</td>\n      <td>0.002777</td>\n      <td>0.035689</td>\n      <td>0.022897</td>\n      <td>0.000099</td>\n      <td>0.002773</td>\n      <td>0.129262</td>\n      <td>0.010845</td>\n      <td>0.018226</td>\n    </tr>\n    <tr>\n      <th>campaign</th>\n      <td>0.002777</td>\n      <td>1.000000</td>\n      <td>0.052624</td>\n      <td>0.078300</td>\n      <td>0.150390</td>\n      <td>0.126598</td>\n      <td>0.012388</td>\n      <td>0.134640</td>\n      <td>0.143609</td>\n    </tr>\n    <tr>\n      <th>pdays</th>\n      <td>0.035689</td>\n      <td>0.052624</td>\n      <td>1.000000</td>\n      <td>0.586728</td>\n      <td>0.271053</td>\n      <td>0.078072</td>\n      <td>0.089587</td>\n      <td>0.297038</td>\n      <td>0.372449</td>\n    </tr>\n    <tr>\n      <th>previous</th>\n      <td>0.022897</td>\n      <td>0.078300</td>\n      <td>0.586728</td>\n      <td>1.000000</td>\n      <td>0.418880</td>\n      <td>0.200008</td>\n      <td>0.052069</td>\n      <td>0.453220</td>\n      <td>0.500861</td>\n    </tr>\n    <tr>\n      <th>emp.var.rate</th>\n      <td>0.000099</td>\n      <td>0.150390</td>\n      <td>0.271053</td>\n      <td>0.418880</td>\n      <td>1.000000</td>\n      <td>0.774727</td>\n      <td>0.199778</td>\n      <td>0.972243</td>\n      <td>0.906857</td>\n    </tr>\n    <tr>\n      <th>cons.price.idx</th>\n      <td>0.002773</td>\n      <td>0.126598</td>\n      <td>0.078072</td>\n      <td>0.200008</td>\n      <td>0.774727</td>\n      <td>1.000000</td>\n      <td>0.062526</td>\n      <td>0.687433</td>\n      <td>0.521010</td>\n    </tr>\n    <tr>\n      <th>cons.conf.idx</th>\n      <td>0.129262</td>\n      <td>0.012388</td>\n      <td>0.089587</td>\n      <td>0.052069</td>\n      <td>0.199778</td>\n      <td>0.062526</td>\n      <td>1.000000</td>\n      <td>0.280493</td>\n      <td>0.102931</td>\n    </tr>\n    <tr>\n      <th>euribor3m</th>\n      <td>0.010845</td>\n      <td>0.134640</td>\n      <td>0.297038</td>\n      <td>0.453220</td>\n      <td>0.972243</td>\n      <td>0.687433</td>\n      <td>0.280493</td>\n      <td>1.000000</td>\n      <td>0.945145</td>\n    </tr>\n    <tr>\n      <th>nr.employed</th>\n      <td>0.018226</td>\n      <td>0.143609</td>\n      <td>0.372449</td>\n      <td>0.500861</td>\n      <td>0.906857</td>\n      <td>0.521010</td>\n      <td>0.102931</td>\n      <td>0.945145</td>\n      <td>1.000000</td>\n    </tr>\n  </tbody>\n</table>\n</div>",
      "text/plain": "                     age  campaign     pdays  previous  emp.var.rate  \\\nage             1.000000  0.002777  0.035689  0.022897      0.000099   \ncampaign        0.002777  1.000000  0.052624  0.078300      0.150390   \npdays           0.035689  0.052624  1.000000  0.586728      0.271053   \nprevious        0.022897  0.078300  0.586728  1.000000      0.418880   \nemp.var.rate    0.000099  0.150390  0.271053  0.418880      1.000000   \ncons.price.idx  0.002773  0.126598  0.078072  0.200008      0.774727   \ncons.conf.idx   0.129262  0.012388  0.089587  0.052069      0.199778   \neuribor3m       0.010845  0.134640  0.297038  0.453220      0.972243   \nnr.employed     0.018226  0.143609  0.372449  0.500861      0.906857   \n\n                cons.price.idx  cons.conf.idx  euribor3m  nr.employed  \nage                   0.002773       0.129262   0.010845     0.018226  \ncampaign              0.126598       0.012388   0.134640     0.143609  \npdays                 0.078072       0.089587   0.297038     0.372449  \nprevious              0.200008       0.052069   0.453220     0.500861  \nemp.var.rate          0.774727       0.199778   0.972243     0.906857  \ncons.price.idx        1.000000       0.062526   0.687433     0.521010  \ncons.conf.idx         0.062526       1.000000   0.280493     0.102931  \neuribor3m             0.687433       0.280493   1.000000     0.945145  \nnr.employed           0.521010       0.102931   0.945145     1.000000  "
     },
     "execution_count": 11,
     "metadata": {},
     "output_type": "execute_result"
    }
   ],
   "source": [
    "corr_matrix = features.corr().abs()\n",
    "corr_matrix"
   ]
  },
  {
   "cell_type": "code",
   "execution_count": 12,
   "metadata": {},
   "outputs": [
    {
     "data": {
      "text/plain": "['euribor3m', 'nr.employed']"
     },
     "execution_count": 12,
     "metadata": {},
     "output_type": "execute_result"
    }
   ],
   "source": [
    "tri = np.triu(np.ones(corr_matrix.shape), k = 1).astype(np.bool)\n",
    "upper = corr_matrix.where(tri)\n",
    "# Find index of feature columns with correlation greater than 90%\n",
    "to_drop = [col for col in upper.columns if any(upper[col] > 0.9)]\n",
    "to_drop"
   ]
  },
  {
   "cell_type": "code",
   "execution_count": 13,
   "metadata": {},
   "outputs": [
    {
     "data": {
      "text/html": "<div>\n<style scoped>\n    .dataframe tbody tr th:only-of-type {\n        vertical-align: middle;\n    }\n\n    .dataframe tbody tr th {\n        vertical-align: top;\n    }\n\n    .dataframe thead th {\n        text-align: right;\n    }\n</style>\n<table border=\"1\" class=\"dataframe\">\n  <thead>\n    <tr style=\"text-align: right;\">\n      <th></th>\n      <th>age</th>\n      <th>job</th>\n      <th>marital</th>\n      <th>education</th>\n      <th>default</th>\n      <th>housing</th>\n      <th>loan</th>\n      <th>contact</th>\n      <th>month</th>\n      <th>day_of_week</th>\n      <th>campaign</th>\n      <th>pdays</th>\n      <th>previous</th>\n      <th>poutcome</th>\n      <th>emp.var.rate</th>\n      <th>cons.price.idx</th>\n      <th>cons.conf.idx</th>\n    </tr>\n  </thead>\n  <tbody>\n    <tr>\n      <th>0</th>\n      <td>56</td>\n      <td>services</td>\n      <td>married</td>\n      <td>high.school</td>\n      <td>no</td>\n      <td>no</td>\n      <td>yes</td>\n      <td>telephone</td>\n      <td>may</td>\n      <td>mon</td>\n      <td>1</td>\n      <td>999</td>\n      <td>0</td>\n      <td>nonexistent</td>\n      <td>1.1</td>\n      <td>93.994</td>\n      <td>-36.4</td>\n    </tr>\n    <tr>\n      <th>1</th>\n      <td>45</td>\n      <td>services</td>\n      <td>married</td>\n      <td>basic.9y</td>\n      <td>unknown</td>\n      <td>no</td>\n      <td>no</td>\n      <td>telephone</td>\n      <td>may</td>\n      <td>mon</td>\n      <td>1</td>\n      <td>999</td>\n      <td>0</td>\n      <td>nonexistent</td>\n      <td>1.1</td>\n      <td>93.994</td>\n      <td>-36.4</td>\n    </tr>\n    <tr>\n      <th>2</th>\n      <td>59</td>\n      <td>admin.</td>\n      <td>married</td>\n      <td>professional.course</td>\n      <td>no</td>\n      <td>no</td>\n      <td>no</td>\n      <td>telephone</td>\n      <td>may</td>\n      <td>mon</td>\n      <td>1</td>\n      <td>999</td>\n      <td>0</td>\n      <td>nonexistent</td>\n      <td>1.1</td>\n      <td>93.994</td>\n      <td>-36.4</td>\n    </tr>\n    <tr>\n      <th>3</th>\n      <td>41</td>\n      <td>blue-collar</td>\n      <td>married</td>\n      <td>unknown</td>\n      <td>unknown</td>\n      <td>no</td>\n      <td>no</td>\n      <td>telephone</td>\n      <td>may</td>\n      <td>mon</td>\n      <td>1</td>\n      <td>999</td>\n      <td>0</td>\n      <td>nonexistent</td>\n      <td>1.1</td>\n      <td>93.994</td>\n      <td>-36.4</td>\n    </tr>\n    <tr>\n      <th>4</th>\n      <td>24</td>\n      <td>technician</td>\n      <td>single</td>\n      <td>professional.course</td>\n      <td>no</td>\n      <td>yes</td>\n      <td>no</td>\n      <td>telephone</td>\n      <td>may</td>\n      <td>mon</td>\n      <td>1</td>\n      <td>999</td>\n      <td>0</td>\n      <td>nonexistent</td>\n      <td>1.1</td>\n      <td>93.994</td>\n      <td>-36.4</td>\n    </tr>\n  </tbody>\n</table>\n</div>",
      "text/plain": "   age          job  marital            education  default housing loan  \\\n0   56     services  married          high.school       no      no  yes   \n1   45     services  married             basic.9y  unknown      no   no   \n2   59       admin.  married  professional.course       no      no   no   \n3   41  blue-collar  married              unknown  unknown      no   no   \n4   24   technician   single  professional.course       no     yes   no   \n\n     contact month day_of_week  campaign  pdays  previous     poutcome  \\\n0  telephone   may         mon         1    999         0  nonexistent   \n1  telephone   may         mon         1    999         0  nonexistent   \n2  telephone   may         mon         1    999         0  nonexistent   \n3  telephone   may         mon         1    999         0  nonexistent   \n4  telephone   may         mon         1    999         0  nonexistent   \n\n   emp.var.rate  cons.price.idx  cons.conf.idx  \n0           1.1          93.994          -36.4  \n1           1.1          93.994          -36.4  \n2           1.1          93.994          -36.4  \n3           1.1          93.994          -36.4  \n4           1.1          93.994          -36.4  "
     },
     "execution_count": 13,
     "metadata": {},
     "output_type": "execute_result"
    }
   ],
   "source": [
    "# Drop highly colinear features\n",
    "features.drop(features[to_drop], axis = 1, inplace = True)\n",
    "features.head()"
   ]
  },
  {
   "cell_type": "code",
   "execution_count": 23,
   "metadata": {},
   "outputs": [
    {
     "data": {
      "text/plain": "array([[56, 'services', 'married', 'high.school', 'no', 'no', 'yes',\n        'telephone', 'may', 'mon', 1, 999, 0, 'nonexistent', 1.1, 93.994,\n        -36.4]], dtype=object)"
     },
     "execution_count": 23,
     "metadata": {},
     "output_type": "execute_result"
    }
   ],
   "source": [
    "np.array(features.iloc[0]).reshape(1,-1)"
   ]
  },
  {
   "cell_type": "code",
   "execution_count": 21,
   "metadata": {},
   "outputs": [
    {
     "data": {
      "text/plain": "[56,\n 'services',\n 'married',\n 'high.school',\n 'no',\n 'no',\n 'yes',\n 'telephone',\n 'may',\n 'mon',\n 1,\n 999,\n 0,\n 'nonexistent',\n 1.1,\n 93.994,\n -36.4]"
     },
     "execution_count": 21,
     "metadata": {},
     "output_type": "execute_result"
    }
   ],
   "source": [
    "list(features.iloc[0])"
   ]
  },
  {
   "cell_type": "code",
   "execution_count": 14,
   "metadata": {},
   "outputs": [],
   "source": [
    "cat_data = data.select_dtypes(include=['object']).copy()"
   ]
  },
  {
   "cell_type": "code",
   "execution_count": 15,
   "metadata": {},
   "outputs": [
    {
     "data": {
      "text/plain": "Index(['job', 'marital', 'education', 'default', 'housing', 'loan', 'contact',\n       'month', 'day_of_week', 'poutcome'],\n      dtype='object')"
     },
     "execution_count": 15,
     "metadata": {},
     "output_type": "execute_result"
    }
   ],
   "source": [
    "cat_data.columns"
   ]
  },
  {
   "cell_type": "code",
   "execution_count": 29,
   "metadata": {},
   "outputs": [
    {
     "data": {
      "text/plain": "array(['services', 'admin.', 'blue-collar', 'technician', 'housemaid',\n       'retired', 'management', 'unknown', 'entrepreneur', 'unemployed',\n       'student', 'self-employed'], dtype=object)"
     },
     "execution_count": 29,
     "metadata": {},
     "output_type": "execute_result"
    }
   ],
   "source": [
    "cat_data['job'].unique()"
   ]
  },
  {
   "cell_type": "code",
   "execution_count": 26,
   "metadata": {},
   "outputs": [
    {
     "data": {
      "text/html": "<div>\n<style scoped>\n    .dataframe tbody tr th:only-of-type {\n        vertical-align: middle;\n    }\n\n    .dataframe tbody tr th {\n        vertical-align: top;\n    }\n\n    .dataframe thead th {\n        text-align: right;\n    }\n</style>\n<table border=\"1\" class=\"dataframe\">\n  <thead>\n    <tr style=\"text-align: right;\">\n      <th></th>\n      <th>job_admin.</th>\n      <th>job_blue-collar</th>\n      <th>job_entrepreneur</th>\n      <th>job_housemaid</th>\n      <th>job_management</th>\n      <th>job_retired</th>\n      <th>job_self-employed</th>\n      <th>job_services</th>\n      <th>job_student</th>\n      <th>job_technician</th>\n      <th>...</th>\n      <th>month_oct</th>\n      <th>month_sep</th>\n      <th>day_of_week_fri</th>\n      <th>day_of_week_mon</th>\n      <th>day_of_week_thu</th>\n      <th>day_of_week_tue</th>\n      <th>day_of_week_wed</th>\n      <th>poutcome_failure</th>\n      <th>poutcome_nonexistent</th>\n      <th>poutcome_success</th>\n    </tr>\n  </thead>\n  <tbody>\n    <tr>\n      <th>0</th>\n      <td>0</td>\n      <td>0</td>\n      <td>0</td>\n      <td>0</td>\n      <td>0</td>\n      <td>0</td>\n      <td>0</td>\n      <td>1</td>\n      <td>0</td>\n      <td>0</td>\n      <td>...</td>\n      <td>0</td>\n      <td>0</td>\n      <td>0</td>\n      <td>1</td>\n      <td>0</td>\n      <td>0</td>\n      <td>0</td>\n      <td>0</td>\n      <td>1</td>\n      <td>0</td>\n    </tr>\n    <tr>\n      <th>1</th>\n      <td>0</td>\n      <td>0</td>\n      <td>0</td>\n      <td>0</td>\n      <td>0</td>\n      <td>0</td>\n      <td>0</td>\n      <td>1</td>\n      <td>0</td>\n      <td>0</td>\n      <td>...</td>\n      <td>0</td>\n      <td>0</td>\n      <td>0</td>\n      <td>1</td>\n      <td>0</td>\n      <td>0</td>\n      <td>0</td>\n      <td>0</td>\n      <td>1</td>\n      <td>0</td>\n    </tr>\n    <tr>\n      <th>2</th>\n      <td>1</td>\n      <td>0</td>\n      <td>0</td>\n      <td>0</td>\n      <td>0</td>\n      <td>0</td>\n      <td>0</td>\n      <td>0</td>\n      <td>0</td>\n      <td>0</td>\n      <td>...</td>\n      <td>0</td>\n      <td>0</td>\n      <td>0</td>\n      <td>1</td>\n      <td>0</td>\n      <td>0</td>\n      <td>0</td>\n      <td>0</td>\n      <td>1</td>\n      <td>0</td>\n    </tr>\n    <tr>\n      <th>3</th>\n      <td>0</td>\n      <td>1</td>\n      <td>0</td>\n      <td>0</td>\n      <td>0</td>\n      <td>0</td>\n      <td>0</td>\n      <td>0</td>\n      <td>0</td>\n      <td>0</td>\n      <td>...</td>\n      <td>0</td>\n      <td>0</td>\n      <td>0</td>\n      <td>1</td>\n      <td>0</td>\n      <td>0</td>\n      <td>0</td>\n      <td>0</td>\n      <td>1</td>\n      <td>0</td>\n    </tr>\n    <tr>\n      <th>4</th>\n      <td>0</td>\n      <td>0</td>\n      <td>0</td>\n      <td>0</td>\n      <td>0</td>\n      <td>0</td>\n      <td>0</td>\n      <td>0</td>\n      <td>0</td>\n      <td>1</td>\n      <td>...</td>\n      <td>0</td>\n      <td>0</td>\n      <td>0</td>\n      <td>1</td>\n      <td>0</td>\n      <td>0</td>\n      <td>0</td>\n      <td>0</td>\n      <td>1</td>\n      <td>0</td>\n    </tr>\n    <tr>\n      <th>...</th>\n      <td>...</td>\n      <td>...</td>\n      <td>...</td>\n      <td>...</td>\n      <td>...</td>\n      <td>...</td>\n      <td>...</td>\n      <td>...</td>\n      <td>...</td>\n      <td>...</td>\n      <td>...</td>\n      <td>...</td>\n      <td>...</td>\n      <td>...</td>\n      <td>...</td>\n      <td>...</td>\n      <td>...</td>\n      <td>...</td>\n      <td>...</td>\n      <td>...</td>\n      <td>...</td>\n    </tr>\n    <tr>\n      <th>37079</th>\n      <td>0</td>\n      <td>0</td>\n      <td>0</td>\n      <td>0</td>\n      <td>0</td>\n      <td>1</td>\n      <td>0</td>\n      <td>0</td>\n      <td>0</td>\n      <td>0</td>\n      <td>...</td>\n      <td>0</td>\n      <td>0</td>\n      <td>1</td>\n      <td>0</td>\n      <td>0</td>\n      <td>0</td>\n      <td>0</td>\n      <td>0</td>\n      <td>1</td>\n      <td>0</td>\n    </tr>\n    <tr>\n      <th>37080</th>\n      <td>0</td>\n      <td>1</td>\n      <td>0</td>\n      <td>0</td>\n      <td>0</td>\n      <td>0</td>\n      <td>0</td>\n      <td>0</td>\n      <td>0</td>\n      <td>0</td>\n      <td>...</td>\n      <td>0</td>\n      <td>0</td>\n      <td>1</td>\n      <td>0</td>\n      <td>0</td>\n      <td>0</td>\n      <td>0</td>\n      <td>0</td>\n      <td>1</td>\n      <td>0</td>\n    </tr>\n    <tr>\n      <th>37081</th>\n      <td>0</td>\n      <td>0</td>\n      <td>0</td>\n      <td>0</td>\n      <td>0</td>\n      <td>1</td>\n      <td>0</td>\n      <td>0</td>\n      <td>0</td>\n      <td>0</td>\n      <td>...</td>\n      <td>0</td>\n      <td>0</td>\n      <td>1</td>\n      <td>0</td>\n      <td>0</td>\n      <td>0</td>\n      <td>0</td>\n      <td>0</td>\n      <td>1</td>\n      <td>0</td>\n    </tr>\n    <tr>\n      <th>37082</th>\n      <td>0</td>\n      <td>0</td>\n      <td>0</td>\n      <td>0</td>\n      <td>0</td>\n      <td>0</td>\n      <td>0</td>\n      <td>0</td>\n      <td>0</td>\n      <td>1</td>\n      <td>...</td>\n      <td>0</td>\n      <td>0</td>\n      <td>1</td>\n      <td>0</td>\n      <td>0</td>\n      <td>0</td>\n      <td>0</td>\n      <td>0</td>\n      <td>1</td>\n      <td>0</td>\n    </tr>\n    <tr>\n      <th>37083</th>\n      <td>0</td>\n      <td>0</td>\n      <td>0</td>\n      <td>0</td>\n      <td>0</td>\n      <td>1</td>\n      <td>0</td>\n      <td>0</td>\n      <td>0</td>\n      <td>0</td>\n      <td>...</td>\n      <td>0</td>\n      <td>0</td>\n      <td>1</td>\n      <td>0</td>\n      <td>0</td>\n      <td>0</td>\n      <td>0</td>\n      <td>1</td>\n      <td>0</td>\n      <td>0</td>\n    </tr>\n  </tbody>\n</table>\n<p>37084 rows × 53 columns</p>\n</div>",
      "text/plain": "       job_admin.  job_blue-collar  job_entrepreneur  job_housemaid  \\\n0               0                0                 0              0   \n1               0                0                 0              0   \n2               1                0                 0              0   \n3               0                1                 0              0   \n4               0                0                 0              0   \n...           ...              ...               ...            ...   \n37079           0                0                 0              0   \n37080           0                1                 0              0   \n37081           0                0                 0              0   \n37082           0                0                 0              0   \n37083           0                0                 0              0   \n\n       job_management  job_retired  job_self-employed  job_services  \\\n0                   0            0                  0             1   \n1                   0            0                  0             1   \n2                   0            0                  0             0   \n3                   0            0                  0             0   \n4                   0            0                  0             0   \n...               ...          ...                ...           ...   \n37079               0            1                  0             0   \n37080               0            0                  0             0   \n37081               0            1                  0             0   \n37082               0            0                  0             0   \n37083               0            1                  0             0   \n\n       job_student  job_technician  ...  month_oct  month_sep  \\\n0                0               0  ...          0          0   \n1                0               0  ...          0          0   \n2                0               0  ...          0          0   \n3                0               0  ...          0          0   \n4                0               1  ...          0          0   \n...            ...             ...  ...        ...        ...   \n37079            0               0  ...          0          0   \n37080            0               0  ...          0          0   \n37081            0               0  ...          0          0   \n37082            0               1  ...          0          0   \n37083            0               0  ...          0          0   \n\n       day_of_week_fri  day_of_week_mon  day_of_week_thu  day_of_week_tue  \\\n0                    0                1                0                0   \n1                    0                1                0                0   \n2                    0                1                0                0   \n3                    0                1                0                0   \n4                    0                1                0                0   \n...                ...              ...              ...              ...   \n37079                1                0                0                0   \n37080                1                0                0                0   \n37081                1                0                0                0   \n37082                1                0                0                0   \n37083                1                0                0                0   \n\n       day_of_week_wed  poutcome_failure  poutcome_nonexistent  \\\n0                    0                 0                     1   \n1                    0                 0                     1   \n2                    0                 0                     1   \n3                    0                 0                     1   \n4                    0                 0                     1   \n...                ...               ...                   ...   \n37079                0                 0                     1   \n37080                0                 0                     1   \n37081                0                 0                     1   \n37082                0                 0                     1   \n37083                0                 1                     0   \n\n       poutcome_success  \n0                     0  \n1                     0  \n2                     0  \n3                     0  \n4                     0  \n...                 ...  \n37079                 0  \n37080                 0  \n37081                 0  \n37082                 0  \n37083                 0  \n\n[37084 rows x 53 columns]"
     },
     "execution_count": 26,
     "metadata": {},
     "output_type": "execute_result"
    }
   ],
   "source": [
    "cat_data_dummies = pd.get_dummies(data[cat_data.columns])\n",
    "cat_data_dummies"
   ]
  },
  {
   "cell_type": "code",
   "execution_count": 33,
   "metadata": {},
   "outputs": [
    {
     "data": {
      "text/html": "<div>\n<style scoped>\n    .dataframe tbody tr th:only-of-type {\n        vertical-align: middle;\n    }\n\n    .dataframe tbody tr th {\n        vertical-align: top;\n    }\n\n    .dataframe thead th {\n        text-align: right;\n    }\n</style>\n<table border=\"1\" class=\"dataframe\">\n  <thead>\n    <tr style=\"text-align: right;\">\n      <th></th>\n      <th>age</th>\n      <th>campaign</th>\n      <th>pdays</th>\n      <th>previous</th>\n      <th>emp.var.rate</th>\n      <th>cons.price.idx</th>\n      <th>cons.conf.idx</th>\n      <th>euribor3m</th>\n      <th>nr.employed</th>\n    </tr>\n  </thead>\n  <tbody>\n    <tr>\n      <th>0</th>\n      <td>56</td>\n      <td>1</td>\n      <td>999</td>\n      <td>0</td>\n      <td>1.1</td>\n      <td>93.994</td>\n      <td>-36.4</td>\n      <td>4.857</td>\n      <td>5191.0</td>\n    </tr>\n    <tr>\n      <th>1</th>\n      <td>45</td>\n      <td>1</td>\n      <td>999</td>\n      <td>0</td>\n      <td>1.1</td>\n      <td>93.994</td>\n      <td>-36.4</td>\n      <td>4.857</td>\n      <td>5191.0</td>\n    </tr>\n    <tr>\n      <th>2</th>\n      <td>59</td>\n      <td>1</td>\n      <td>999</td>\n      <td>0</td>\n      <td>1.1</td>\n      <td>93.994</td>\n      <td>-36.4</td>\n      <td>4.857</td>\n      <td>5191.0</td>\n    </tr>\n    <tr>\n      <th>3</th>\n      <td>41</td>\n      <td>1</td>\n      <td>999</td>\n      <td>0</td>\n      <td>1.1</td>\n      <td>93.994</td>\n      <td>-36.4</td>\n      <td>4.857</td>\n      <td>5191.0</td>\n    </tr>\n    <tr>\n      <th>4</th>\n      <td>24</td>\n      <td>1</td>\n      <td>999</td>\n      <td>0</td>\n      <td>1.1</td>\n      <td>93.994</td>\n      <td>-36.4</td>\n      <td>4.857</td>\n      <td>5191.0</td>\n    </tr>\n  </tbody>\n</table>\n</div>",
      "text/plain": "   age  campaign  pdays  previous  emp.var.rate  cons.price.idx  \\\n0   56         1    999         0           1.1          93.994   \n1   45         1    999         0           1.1          93.994   \n2   59         1    999         0           1.1          93.994   \n3   41         1    999         0           1.1          93.994   \n4   24         1    999         0           1.1          93.994   \n\n   cons.conf.idx  euribor3m  nr.employed  \n0          -36.4      4.857       5191.0  \n1          -36.4      4.857       5191.0  \n2          -36.4      4.857       5191.0  \n3          -36.4      4.857       5191.0  \n4          -36.4      4.857       5191.0  "
     },
     "execution_count": 33,
     "metadata": {},
     "output_type": "execute_result"
    }
   ],
   "source": [
    "df = features.copy()\n",
    "df.drop(columns = cat_data.columns, inplace = True)\n",
    "df.head()"
   ]
  },
  {
   "cell_type": "code",
   "execution_count": 41,
   "metadata": {},
   "outputs": [
    {
     "data": {
      "text/plain": "[array([ 7.4000e+01,  3.0000e+00,  9.9900e+02,  1.0000e+00, -1.1000e+00,\n         9.4767e+01, -5.0800e+01,  1.0280e+00,  4.9636e+03])]"
     },
     "execution_count": 41,
     "metadata": {},
     "output_type": "execute_result"
    }
   ],
   "source": [
    "list(df[-1:].values)"
   ]
  },
  {
   "cell_type": "code",
   "execution_count": 47,
   "metadata": {},
   "outputs": [
    {
     "data": {
      "text/plain": "[74.0, 3.0, 999.0, 1.0, -1.1, 94.76700000000001, -50.8, 1.028, 4963.6]"
     },
     "execution_count": 47,
     "metadata": {},
     "output_type": "execute_result"
    }
   ],
   "source": [
    "list(df.iloc[-1].values)"
   ]
  },
  {
   "cell_type": "code",
   "execution_count": 36,
   "metadata": {},
   "outputs": [
    {
     "data": {
      "text/html": "<div>\n<style scoped>\n    .dataframe tbody tr th:only-of-type {\n        vertical-align: middle;\n    }\n\n    .dataframe tbody tr th {\n        vertical-align: top;\n    }\n\n    .dataframe thead th {\n        text-align: right;\n    }\n</style>\n<table border=\"1\" class=\"dataframe\">\n  <thead>\n    <tr style=\"text-align: right;\">\n      <th></th>\n      <th>job_admin.</th>\n      <th>job_blue-collar</th>\n      <th>job_entrepreneur</th>\n      <th>job_housemaid</th>\n      <th>job_management</th>\n      <th>job_retired</th>\n      <th>job_self-employed</th>\n      <th>job_services</th>\n      <th>job_student</th>\n      <th>job_technician</th>\n      <th>...</th>\n      <th>poutcome_failure</th>\n      <th>poutcome_nonexistent</th>\n      <th>poutcome_success</th>\n      <th>age</th>\n      <th>campaign</th>\n      <th>pdays</th>\n      <th>previous</th>\n      <th>emp.var.rate</th>\n      <th>cons.price.idx</th>\n      <th>cons.conf.idx</th>\n    </tr>\n  </thead>\n  <tbody>\n    <tr>\n      <th>0</th>\n      <td>0</td>\n      <td>0</td>\n      <td>0</td>\n      <td>0</td>\n      <td>0</td>\n      <td>0</td>\n      <td>0</td>\n      <td>1</td>\n      <td>0</td>\n      <td>0</td>\n      <td>...</td>\n      <td>0</td>\n      <td>1</td>\n      <td>0</td>\n      <td>56</td>\n      <td>1</td>\n      <td>999</td>\n      <td>0</td>\n      <td>1.1</td>\n      <td>93.994</td>\n      <td>-36.4</td>\n    </tr>\n    <tr>\n      <th>1</th>\n      <td>0</td>\n      <td>0</td>\n      <td>0</td>\n      <td>0</td>\n      <td>0</td>\n      <td>0</td>\n      <td>0</td>\n      <td>1</td>\n      <td>0</td>\n      <td>0</td>\n      <td>...</td>\n      <td>0</td>\n      <td>1</td>\n      <td>0</td>\n      <td>45</td>\n      <td>1</td>\n      <td>999</td>\n      <td>0</td>\n      <td>1.1</td>\n      <td>93.994</td>\n      <td>-36.4</td>\n    </tr>\n    <tr>\n      <th>2</th>\n      <td>1</td>\n      <td>0</td>\n      <td>0</td>\n      <td>0</td>\n      <td>0</td>\n      <td>0</td>\n      <td>0</td>\n      <td>0</td>\n      <td>0</td>\n      <td>0</td>\n      <td>...</td>\n      <td>0</td>\n      <td>1</td>\n      <td>0</td>\n      <td>59</td>\n      <td>1</td>\n      <td>999</td>\n      <td>0</td>\n      <td>1.1</td>\n      <td>93.994</td>\n      <td>-36.4</td>\n    </tr>\n    <tr>\n      <th>3</th>\n      <td>0</td>\n      <td>1</td>\n      <td>0</td>\n      <td>0</td>\n      <td>0</td>\n      <td>0</td>\n      <td>0</td>\n      <td>0</td>\n      <td>0</td>\n      <td>0</td>\n      <td>...</td>\n      <td>0</td>\n      <td>1</td>\n      <td>0</td>\n      <td>41</td>\n      <td>1</td>\n      <td>999</td>\n      <td>0</td>\n      <td>1.1</td>\n      <td>93.994</td>\n      <td>-36.4</td>\n    </tr>\n    <tr>\n      <th>4</th>\n      <td>0</td>\n      <td>0</td>\n      <td>0</td>\n      <td>0</td>\n      <td>0</td>\n      <td>0</td>\n      <td>0</td>\n      <td>0</td>\n      <td>0</td>\n      <td>1</td>\n      <td>...</td>\n      <td>0</td>\n      <td>1</td>\n      <td>0</td>\n      <td>24</td>\n      <td>1</td>\n      <td>999</td>\n      <td>0</td>\n      <td>1.1</td>\n      <td>93.994</td>\n      <td>-36.4</td>\n    </tr>\n    <tr>\n      <th>...</th>\n      <td>...</td>\n      <td>...</td>\n      <td>...</td>\n      <td>...</td>\n      <td>...</td>\n      <td>...</td>\n      <td>...</td>\n      <td>...</td>\n      <td>...</td>\n      <td>...</td>\n      <td>...</td>\n      <td>...</td>\n      <td>...</td>\n      <td>...</td>\n      <td>...</td>\n      <td>...</td>\n      <td>...</td>\n      <td>...</td>\n      <td>...</td>\n      <td>...</td>\n      <td>...</td>\n    </tr>\n    <tr>\n      <th>37079</th>\n      <td>0</td>\n      <td>0</td>\n      <td>0</td>\n      <td>0</td>\n      <td>0</td>\n      <td>1</td>\n      <td>0</td>\n      <td>0</td>\n      <td>0</td>\n      <td>0</td>\n      <td>...</td>\n      <td>0</td>\n      <td>1</td>\n      <td>0</td>\n      <td>73</td>\n      <td>1</td>\n      <td>999</td>\n      <td>0</td>\n      <td>-1.1</td>\n      <td>94.767</td>\n      <td>-50.8</td>\n    </tr>\n    <tr>\n      <th>37080</th>\n      <td>0</td>\n      <td>1</td>\n      <td>0</td>\n      <td>0</td>\n      <td>0</td>\n      <td>0</td>\n      <td>0</td>\n      <td>0</td>\n      <td>0</td>\n      <td>0</td>\n      <td>...</td>\n      <td>0</td>\n      <td>1</td>\n      <td>0</td>\n      <td>46</td>\n      <td>1</td>\n      <td>999</td>\n      <td>0</td>\n      <td>-1.1</td>\n      <td>94.767</td>\n      <td>-50.8</td>\n    </tr>\n    <tr>\n      <th>37081</th>\n      <td>0</td>\n      <td>0</td>\n      <td>0</td>\n      <td>0</td>\n      <td>0</td>\n      <td>1</td>\n      <td>0</td>\n      <td>0</td>\n      <td>0</td>\n      <td>0</td>\n      <td>...</td>\n      <td>0</td>\n      <td>1</td>\n      <td>0</td>\n      <td>56</td>\n      <td>2</td>\n      <td>999</td>\n      <td>0</td>\n      <td>-1.1</td>\n      <td>94.767</td>\n      <td>-50.8</td>\n    </tr>\n    <tr>\n      <th>37082</th>\n      <td>0</td>\n      <td>0</td>\n      <td>0</td>\n      <td>0</td>\n      <td>0</td>\n      <td>0</td>\n      <td>0</td>\n      <td>0</td>\n      <td>0</td>\n      <td>1</td>\n      <td>...</td>\n      <td>0</td>\n      <td>1</td>\n      <td>0</td>\n      <td>44</td>\n      <td>1</td>\n      <td>999</td>\n      <td>0</td>\n      <td>-1.1</td>\n      <td>94.767</td>\n      <td>-50.8</td>\n    </tr>\n    <tr>\n      <th>37083</th>\n      <td>0</td>\n      <td>0</td>\n      <td>0</td>\n      <td>0</td>\n      <td>0</td>\n      <td>1</td>\n      <td>0</td>\n      <td>0</td>\n      <td>0</td>\n      <td>0</td>\n      <td>...</td>\n      <td>1</td>\n      <td>0</td>\n      <td>0</td>\n      <td>74</td>\n      <td>3</td>\n      <td>999</td>\n      <td>1</td>\n      <td>-1.1</td>\n      <td>94.767</td>\n      <td>-50.8</td>\n    </tr>\n  </tbody>\n</table>\n<p>37084 rows × 60 columns</p>\n</div>",
      "text/plain": "       job_admin.  job_blue-collar  job_entrepreneur  job_housemaid  \\\n0               0                0                 0              0   \n1               0                0                 0              0   \n2               1                0                 0              0   \n3               0                1                 0              0   \n4               0                0                 0              0   \n...           ...              ...               ...            ...   \n37079           0                0                 0              0   \n37080           0                1                 0              0   \n37081           0                0                 0              0   \n37082           0                0                 0              0   \n37083           0                0                 0              0   \n\n       job_management  job_retired  job_self-employed  job_services  \\\n0                   0            0                  0             1   \n1                   0            0                  0             1   \n2                   0            0                  0             0   \n3                   0            0                  0             0   \n4                   0            0                  0             0   \n...               ...          ...                ...           ...   \n37079               0            1                  0             0   \n37080               0            0                  0             0   \n37081               0            1                  0             0   \n37082               0            0                  0             0   \n37083               0            1                  0             0   \n\n       job_student  job_technician  ...  poutcome_failure  \\\n0                0               0  ...                 0   \n1                0               0  ...                 0   \n2                0               0  ...                 0   \n3                0               0  ...                 0   \n4                0               1  ...                 0   \n...            ...             ...  ...               ...   \n37079            0               0  ...                 0   \n37080            0               0  ...                 0   \n37081            0               0  ...                 0   \n37082            0               1  ...                 0   \n37083            0               0  ...                 1   \n\n       poutcome_nonexistent  poutcome_success  age  campaign  pdays  previous  \\\n0                         1                 0   56         1    999         0   \n1                         1                 0   45         1    999         0   \n2                         1                 0   59         1    999         0   \n3                         1                 0   41         1    999         0   \n4                         1                 0   24         1    999         0   \n...                     ...               ...  ...       ...    ...       ...   \n37079                     1                 0   73         1    999         0   \n37080                     1                 0   46         1    999         0   \n37081                     1                 0   56         2    999         0   \n37082                     1                 0   44         1    999         0   \n37083                     0                 0   74         3    999         1   \n\n       emp.var.rate  cons.price.idx  cons.conf.idx  \n0               1.1          93.994          -36.4  \n1               1.1          93.994          -36.4  \n2               1.1          93.994          -36.4  \n3               1.1          93.994          -36.4  \n4               1.1          93.994          -36.4  \n...             ...             ...            ...  \n37079          -1.1          94.767          -50.8  \n37080          -1.1          94.767          -50.8  \n37081          -1.1          94.767          -50.8  \n37082          -1.1          94.767          -50.8  \n37083          -1.1          94.767          -50.8  \n\n[37084 rows x 60 columns]"
     },
     "execution_count": 36,
     "metadata": {},
     "output_type": "execute_result"
    }
   ],
   "source": [
    "features = pd.concat([cat_data_dummies, df], axis=1)\n",
    "features"
   ]
  },
  {
   "cell_type": "code",
   "execution_count": 37,
   "metadata": {},
   "outputs": [
    {
     "data": {
      "text/plain": "['job_unknown',\n 'marital_unknown',\n 'education_unknown',\n 'default_unknown',\n 'housing_unknown',\n 'loan_unknown']"
     },
     "execution_count": 37,
     "metadata": {},
     "output_type": "execute_result"
    }
   ],
   "source": [
    "unknow_columns = [c for c in features.columns if 'unknow' in c]\n",
    "unknow_columns"
   ]
  },
  {
   "cell_type": "code",
   "execution_count": 39,
   "metadata": {},
   "outputs": [],
   "source": [
    "features.drop(columns = unknow_columns, inplace = True)"
   ]
  },
  {
   "cell_type": "code",
   "execution_count": 40,
   "metadata": {},
   "outputs": [
    {
     "data": {
      "text/html": "<div>\n<style scoped>\n    .dataframe tbody tr th:only-of-type {\n        vertical-align: middle;\n    }\n\n    .dataframe tbody tr th {\n        vertical-align: top;\n    }\n\n    .dataframe thead th {\n        text-align: right;\n    }\n</style>\n<table border=\"1\" class=\"dataframe\">\n  <thead>\n    <tr style=\"text-align: right;\">\n      <th></th>\n      <th>job_admin.</th>\n      <th>job_blue-collar</th>\n      <th>job_entrepreneur</th>\n      <th>job_housemaid</th>\n      <th>job_management</th>\n      <th>job_retired</th>\n      <th>job_self-employed</th>\n      <th>job_services</th>\n      <th>job_student</th>\n      <th>job_technician</th>\n      <th>...</th>\n      <th>poutcome_failure</th>\n      <th>poutcome_nonexistent</th>\n      <th>poutcome_success</th>\n      <th>age</th>\n      <th>campaign</th>\n      <th>pdays</th>\n      <th>previous</th>\n      <th>emp.var.rate</th>\n      <th>cons.price.idx</th>\n      <th>cons.conf.idx</th>\n    </tr>\n  </thead>\n  <tbody>\n    <tr>\n      <th>0</th>\n      <td>0</td>\n      <td>0</td>\n      <td>0</td>\n      <td>0</td>\n      <td>0</td>\n      <td>0</td>\n      <td>0</td>\n      <td>1</td>\n      <td>0</td>\n      <td>0</td>\n      <td>...</td>\n      <td>0</td>\n      <td>1</td>\n      <td>0</td>\n      <td>56</td>\n      <td>1</td>\n      <td>999</td>\n      <td>0</td>\n      <td>1.1</td>\n      <td>93.994</td>\n      <td>-36.4</td>\n    </tr>\n    <tr>\n      <th>1</th>\n      <td>0</td>\n      <td>0</td>\n      <td>0</td>\n      <td>0</td>\n      <td>0</td>\n      <td>0</td>\n      <td>0</td>\n      <td>1</td>\n      <td>0</td>\n      <td>0</td>\n      <td>...</td>\n      <td>0</td>\n      <td>1</td>\n      <td>0</td>\n      <td>45</td>\n      <td>1</td>\n      <td>999</td>\n      <td>0</td>\n      <td>1.1</td>\n      <td>93.994</td>\n      <td>-36.4</td>\n    </tr>\n    <tr>\n      <th>2</th>\n      <td>1</td>\n      <td>0</td>\n      <td>0</td>\n      <td>0</td>\n      <td>0</td>\n      <td>0</td>\n      <td>0</td>\n      <td>0</td>\n      <td>0</td>\n      <td>0</td>\n      <td>...</td>\n      <td>0</td>\n      <td>1</td>\n      <td>0</td>\n      <td>59</td>\n      <td>1</td>\n      <td>999</td>\n      <td>0</td>\n      <td>1.1</td>\n      <td>93.994</td>\n      <td>-36.4</td>\n    </tr>\n    <tr>\n      <th>3</th>\n      <td>0</td>\n      <td>1</td>\n      <td>0</td>\n      <td>0</td>\n      <td>0</td>\n      <td>0</td>\n      <td>0</td>\n      <td>0</td>\n      <td>0</td>\n      <td>0</td>\n      <td>...</td>\n      <td>0</td>\n      <td>1</td>\n      <td>0</td>\n      <td>41</td>\n      <td>1</td>\n      <td>999</td>\n      <td>0</td>\n      <td>1.1</td>\n      <td>93.994</td>\n      <td>-36.4</td>\n    </tr>\n    <tr>\n      <th>4</th>\n      <td>0</td>\n      <td>0</td>\n      <td>0</td>\n      <td>0</td>\n      <td>0</td>\n      <td>0</td>\n      <td>0</td>\n      <td>0</td>\n      <td>0</td>\n      <td>1</td>\n      <td>...</td>\n      <td>0</td>\n      <td>1</td>\n      <td>0</td>\n      <td>24</td>\n      <td>1</td>\n      <td>999</td>\n      <td>0</td>\n      <td>1.1</td>\n      <td>93.994</td>\n      <td>-36.4</td>\n    </tr>\n  </tbody>\n</table>\n<p>5 rows × 54 columns</p>\n</div>",
      "text/plain": "   job_admin.  job_blue-collar  job_entrepreneur  job_housemaid  \\\n0           0                0                 0              0   \n1           0                0                 0              0   \n2           1                0                 0              0   \n3           0                1                 0              0   \n4           0                0                 0              0   \n\n   job_management  job_retired  job_self-employed  job_services  job_student  \\\n0               0            0                  0             1            0   \n1               0            0                  0             1            0   \n2               0            0                  0             0            0   \n3               0            0                  0             0            0   \n4               0            0                  0             0            0   \n\n   job_technician  ...  poutcome_failure  poutcome_nonexistent  \\\n0               0  ...                 0                     1   \n1               0  ...                 0                     1   \n2               0  ...                 0                     1   \n3               0  ...                 0                     1   \n4               1  ...                 0                     1   \n\n   poutcome_success  age  campaign  pdays  previous  emp.var.rate  \\\n0                 0   56         1    999         0           1.1   \n1                 0   45         1    999         0           1.1   \n2                 0   59         1    999         0           1.1   \n3                 0   41         1    999         0           1.1   \n4                 0   24         1    999         0           1.1   \n\n   cons.price.idx  cons.conf.idx  \n0          93.994          -36.4  \n1          93.994          -36.4  \n2          93.994          -36.4  \n3          93.994          -36.4  \n4          93.994          -36.4  \n\n[5 rows x 54 columns]"
     },
     "execution_count": 40,
     "metadata": {},
     "output_type": "execute_result"
    }
   ],
   "source": [
    "features.head()"
   ]
  },
  {
   "cell_type": "code",
   "execution_count": 55,
   "metadata": {},
   "outputs": [
    {
     "data": {
      "text/html": "<div>\n<style scoped>\n    .dataframe tbody tr th:only-of-type {\n        vertical-align: middle;\n    }\n\n    .dataframe tbody tr th {\n        vertical-align: top;\n    }\n\n    .dataframe thead th {\n        text-align: right;\n    }\n</style>\n<table border=\"1\" class=\"dataframe\">\n  <thead>\n    <tr style=\"text-align: right;\">\n      <th></th>\n      <th>job_admin.</th>\n      <th>job_blue-collar</th>\n      <th>job_entrepreneur</th>\n      <th>job_housemaid</th>\n      <th>job_management</th>\n      <th>job_retired</th>\n      <th>job_self-employed</th>\n      <th>job_services</th>\n      <th>job_student</th>\n      <th>job_technician</th>\n      <th>...</th>\n      <th>poutcome_failure</th>\n      <th>poutcome_nonexistent</th>\n      <th>poutcome_success</th>\n      <th>age</th>\n      <th>campaign</th>\n      <th>pdays</th>\n      <th>previous</th>\n      <th>emp.var.rate</th>\n      <th>cons.price.idx</th>\n      <th>cons.conf.idx</th>\n    </tr>\n  </thead>\n  <tbody>\n    <tr>\n      <th>26924</th>\n      <td>0</td>\n      <td>1</td>\n      <td>0</td>\n      <td>0</td>\n      <td>0</td>\n      <td>0</td>\n      <td>0</td>\n      <td>0</td>\n      <td>0</td>\n      <td>0</td>\n      <td>...</td>\n      <td>1</td>\n      <td>0</td>\n      <td>0</td>\n      <td>43</td>\n      <td>2</td>\n      <td>999</td>\n      <td>1</td>\n      <td>-1.8</td>\n      <td>93.075</td>\n      <td>-47.1</td>\n    </tr>\n    <tr>\n      <th>36434</th>\n      <td>1</td>\n      <td>0</td>\n      <td>0</td>\n      <td>0</td>\n      <td>0</td>\n      <td>0</td>\n      <td>0</td>\n      <td>0</td>\n      <td>0</td>\n      <td>0</td>\n      <td>...</td>\n      <td>0</td>\n      <td>0</td>\n      <td>1</td>\n      <td>55</td>\n      <td>2</td>\n      <td>6</td>\n      <td>3</td>\n      <td>-1.7</td>\n      <td>94.027</td>\n      <td>-38.3</td>\n    </tr>\n    <tr>\n      <th>9444</th>\n      <td>0</td>\n      <td>0</td>\n      <td>0</td>\n      <td>0</td>\n      <td>1</td>\n      <td>0</td>\n      <td>0</td>\n      <td>0</td>\n      <td>0</td>\n      <td>0</td>\n      <td>...</td>\n      <td>0</td>\n      <td>1</td>\n      <td>0</td>\n      <td>49</td>\n      <td>18</td>\n      <td>999</td>\n      <td>0</td>\n      <td>1.4</td>\n      <td>94.465</td>\n      <td>-41.8</td>\n    </tr>\n    <tr>\n      <th>25809</th>\n      <td>0</td>\n      <td>0</td>\n      <td>0</td>\n      <td>0</td>\n      <td>0</td>\n      <td>0</td>\n      <td>0</td>\n      <td>1</td>\n      <td>0</td>\n      <td>0</td>\n      <td>...</td>\n      <td>0</td>\n      <td>1</td>\n      <td>0</td>\n      <td>52</td>\n      <td>2</td>\n      <td>999</td>\n      <td>0</td>\n      <td>-1.8</td>\n      <td>93.075</td>\n      <td>-47.1</td>\n    </tr>\n    <tr>\n      <th>9641</th>\n      <td>0</td>\n      <td>0</td>\n      <td>0</td>\n      <td>0</td>\n      <td>0</td>\n      <td>1</td>\n      <td>0</td>\n      <td>0</td>\n      <td>0</td>\n      <td>0</td>\n      <td>...</td>\n      <td>0</td>\n      <td>1</td>\n      <td>0</td>\n      <td>55</td>\n      <td>4</td>\n      <td>999</td>\n      <td>0</td>\n      <td>1.4</td>\n      <td>94.465</td>\n      <td>-41.8</td>\n    </tr>\n  </tbody>\n</table>\n<p>5 rows × 54 columns</p>\n</div>",
      "text/plain": "       job_admin.  job_blue-collar  job_entrepreneur  job_housemaid  \\\n26924           0                1                 0              0   \n36434           1                0                 0              0   \n9444            0                0                 0              0   \n25809           0                0                 0              0   \n9641            0                0                 0              0   \n\n       job_management  job_retired  job_self-employed  job_services  \\\n26924               0            0                  0             0   \n36434               0            0                  0             0   \n9444                1            0                  0             0   \n25809               0            0                  0             1   \n9641                0            1                  0             0   \n\n       job_student  job_technician  ...  poutcome_failure  \\\n26924            0               0  ...                 1   \n36434            0               0  ...                 0   \n9444             0               0  ...                 0   \n25809            0               0  ...                 0   \n9641             0               0  ...                 0   \n\n       poutcome_nonexistent  poutcome_success  age  campaign  pdays  previous  \\\n26924                     0                 0   43         2    999         1   \n36434                     0                 1   55         2      6         3   \n9444                      1                 0   49        18    999         0   \n25809                     1                 0   52         2    999         0   \n9641                      1                 0   55         4    999         0   \n\n       emp.var.rate  cons.price.idx  cons.conf.idx  \n26924          -1.8          93.075          -47.1  \n36434          -1.7          94.027          -38.3  \n9444            1.4          94.465          -41.8  \n25809          -1.8          93.075          -47.1  \n9641            1.4          94.465          -41.8  \n\n[5 rows x 54 columns]"
     },
     "execution_count": 55,
     "metadata": {},
     "output_type": "execute_result"
    }
   ],
   "source": [
    "from sklearn.model_selection import train_test_split\n",
    "\n",
    "train_X, test_X, train_y, test_y = train_test_split(\n",
    "    features,\n",
    "    target,\n",
    "    test_size = .2,\n",
    "    random_state = 42\n",
    ")\n",
    "\n",
    "train_X.head()"
   ]
  },
  {
   "cell_type": "code",
   "execution_count": 56,
   "metadata": {},
   "outputs": [
    {
     "name": "stderr",
     "output_type": "stream",
     "text": "C:\\Users\\Yailin\\AppData\\Local\\Programs\\Python\\Python37-32\\lib\\site-packages\\sklearn\\linear_model\\_logistic.py:940: ConvergenceWarning: lbfgs failed to converge (status=1):\nSTOP: TOTAL NO. of ITERATIONS REACHED LIMIT.\n\nIncrease the number of iterations (max_iter) or scale the data as shown in:\n    https://scikit-learn.org/stable/modules/preprocessing.html\nPlease also refer to the documentation for alternative solver options:\n    https://scikit-learn.org/stable/modules/linear_model.html#logistic-regression\n  extra_warning_msg=_LOGISTIC_SOLVER_CONVERGENCE_MSG)\n"
    },
    {
     "data": {
      "text/plain": "0.8984764729675071"
     },
     "execution_count": 56,
     "metadata": {},
     "output_type": "execute_result"
    }
   ],
   "source": [
    "from sklearn.linear_model import LogisticRegression\n",
    "\n",
    "log_regr = LogisticRegression(solver = 'lbfgs')\n",
    "log_regr.fit(train_X, train_y.values.ravel())\n",
    "log_regr.score(test_X, test_y)"
   ]
  },
  {
   "cell_type": "code",
   "execution_count": 58,
   "metadata": {},
   "outputs": [],
   "source": [
    "from sklearn.model_selection import cross_val_score\n",
    "from sklearn.metrics import accuracy_score\n",
    "from sklearn.naive_bayes import GaussianNB\n",
    "from sklearn.linear_model import LogisticRegression\n",
    "from sklearn.naive_bayes import BernoulliNB\n",
    "from sklearn.ensemble import RandomForestClassifier\n",
    "from sklearn.neighbors import KNeighborsClassifier\n",
    "from sklearn.svm import LinearSVC\n",
    "from sklearn.neural_network import MLPClassifier\n",
    "\n",
    "\n",
    "classifiers = {'Logistic Regression': LogisticRegression(random_state=0, solver='lbfgs', multi_class='ovr'),\n",
    "              'Gaussian NB': GaussianNB(),\n",
    "              'Bernoulli NB': BernoulliNB(),\n",
    "              'Random Forest': RandomForestClassifier(n_estimators=100, max_depth=2, random_state=0),\n",
    "              'KNeighborsClassifier': KNeighborsClassifier(), \n",
    "              'Linear SVC': LinearSVC(),\n",
    "              'Neural Network':  MLPClassifier(solver='lbfgs', alpha=1e-5, hidden_layer_sizes=(5, 2), random_state=1)}\n",
    "              \n",
    "def compare_models(x, y, model_dict, folds=3):\n",
    "    results = []\n",
    "    for name, model in model_dict.items():\n",
    "        scores = cross_val_score(model, x, y, cv=folds)\n",
    "        stats = [name, scores.mean(), min(scores), max(scores), scores.std(), pd.Series(scores).mad(), scores]\n",
    "        results.append(stats)\n",
    "    df = pd.DataFrame(results, columns = ['Model', 'Mean', 'Min', 'Max','Std', 'Mad', 'Score'])\n",
    "    df = df.sort_values('Mean', ascending = False)\n",
    "    return df"
   ]
  },
  {
   "cell_type": "code",
   "execution_count": 59,
   "metadata": {},
   "outputs": [
    {
     "name": "stderr",
     "output_type": "stream",
     "text": "C:\\Users\\Yailin\\AppData\\Local\\Programs\\Python\\Python37-32\\lib\\site-packages\\sklearn\\utils\\validation.py:760: DataConversionWarning: A column-vector y was passed when a 1d array was expected. Please change the shape of y to (n_samples, ), for example using ravel().\n  y = column_or_1d(y, warn=True)\nC:\\Users\\Yailin\\AppData\\Local\\Programs\\Python\\Python37-32\\lib\\site-packages\\sklearn\\linear_model\\_logistic.py:940: ConvergenceWarning: lbfgs failed to converge (status=1):\nSTOP: TOTAL NO. of ITERATIONS REACHED LIMIT.\n\nIncrease the number of iterations (max_iter) or scale the data as shown in:\n    https://scikit-learn.org/stable/modules/preprocessing.html\nPlease also refer to the documentation for alternative solver options:\n    https://scikit-learn.org/stable/modules/linear_model.html#logistic-regression\n  extra_warning_msg=_LOGISTIC_SOLVER_CONVERGENCE_MSG)\nC:\\Users\\Yailin\\AppData\\Local\\Programs\\Python\\Python37-32\\lib\\site-packages\\sklearn\\utils\\validation.py:760: DataConversionWarning: A column-vector y was passed when a 1d array was expected. Please change the shape of y to (n_samples, ), for example using ravel().\n  y = column_or_1d(y, warn=True)\nC:\\Users\\Yailin\\AppData\\Local\\Programs\\Python\\Python37-32\\lib\\site-packages\\sklearn\\linear_model\\_logistic.py:940: ConvergenceWarning: lbfgs failed to converge (status=1):\nSTOP: TOTAL NO. of ITERATIONS REACHED LIMIT.\n\nIncrease the number of iterations (max_iter) or scale the data as shown in:\n    https://scikit-learn.org/stable/modules/preprocessing.html\nPlease also refer to the documentation for alternative solver options:\n    https://scikit-learn.org/stable/modules/linear_model.html#logistic-regression\n  extra_warning_msg=_LOGISTIC_SOLVER_CONVERGENCE_MSG)\nC:\\Users\\Yailin\\AppData\\Local\\Programs\\Python\\Python37-32\\lib\\site-packages\\sklearn\\utils\\validation.py:760: DataConversionWarning: A column-vector y was passed when a 1d array was expected. Please change the shape of y to (n_samples, ), for example using ravel().\n  y = column_or_1d(y, warn=True)\nC:\\Users\\Yailin\\AppData\\Local\\Programs\\Python\\Python37-32\\lib\\site-packages\\sklearn\\linear_model\\_logistic.py:940: ConvergenceWarning: lbfgs failed to converge (status=1):\nSTOP: TOTAL NO. of ITERATIONS REACHED LIMIT.\n\nIncrease the number of iterations (max_iter) or scale the data as shown in:\n    https://scikit-learn.org/stable/modules/preprocessing.html\nPlease also refer to the documentation for alternative solver options:\n    https://scikit-learn.org/stable/modules/linear_model.html#logistic-regression\n  extra_warning_msg=_LOGISTIC_SOLVER_CONVERGENCE_MSG)\nC:\\Users\\Yailin\\AppData\\Local\\Programs\\Python\\Python37-32\\lib\\site-packages\\sklearn\\naive_bayes.py:206: DataConversionWarning: A column-vector y was passed when a 1d array was expected. Please change the shape of y to (n_samples, ), for example using ravel().\n  y = column_or_1d(y, warn=True)\nC:\\Users\\Yailin\\AppData\\Local\\Programs\\Python\\Python37-32\\lib\\site-packages\\sklearn\\naive_bayes.py:206: DataConversionWarning: A column-vector y was passed when a 1d array was expected. Please change the shape of y to (n_samples, ), for example using ravel().\n  y = column_or_1d(y, warn=True)\nC:\\Users\\Yailin\\AppData\\Local\\Programs\\Python\\Python37-32\\lib\\site-packages\\sklearn\\naive_bayes.py:206: DataConversionWarning: A column-vector y was passed when a 1d array was expected. Please change the shape of y to (n_samples, ), for example using ravel().\n  y = column_or_1d(y, warn=True)\nC:\\Users\\Yailin\\AppData\\Local\\Programs\\Python\\Python37-32\\lib\\site-packages\\sklearn\\utils\\validation.py:760: DataConversionWarning: A column-vector y was passed when a 1d array was expected. Please change the shape of y to (n_samples, ), for example using ravel().\n  y = column_or_1d(y, warn=True)\nC:\\Users\\Yailin\\AppData\\Local\\Programs\\Python\\Python37-32\\lib\\site-packages\\sklearn\\utils\\validation.py:760: DataConversionWarning: A column-vector y was passed when a 1d array was expected. Please change the shape of y to (n_samples, ), for example using ravel().\n  y = column_or_1d(y, warn=True)\nC:\\Users\\Yailin\\AppData\\Local\\Programs\\Python\\Python37-32\\lib\\site-packages\\sklearn\\utils\\validation.py:760: DataConversionWarning: A column-vector y was passed when a 1d array was expected. Please change the shape of y to (n_samples, ), for example using ravel().\n  y = column_or_1d(y, warn=True)\nC:\\Users\\Yailin\\AppData\\Local\\Programs\\Python\\Python37-32\\lib\\site-packages\\sklearn\\model_selection\\_validation.py:515: DataConversionWarning: A column-vector y was passed when a 1d array was expected. Please change the shape of y to (n_samples,), for example using ravel().\n  estimator.fit(X_train, y_train, **fit_params)\nC:\\Users\\Yailin\\AppData\\Local\\Programs\\Python\\Python37-32\\lib\\site-packages\\sklearn\\model_selection\\_validation.py:515: DataConversionWarning: A column-vector y was passed when a 1d array was expected. Please change the shape of y to (n_samples,), for example using ravel().\n  estimator.fit(X_train, y_train, **fit_params)\nC:\\Users\\Yailin\\AppData\\Local\\Programs\\Python\\Python37-32\\lib\\site-packages\\sklearn\\model_selection\\_validation.py:515: DataConversionWarning: A column-vector y was passed when a 1d array was expected. Please change the shape of y to (n_samples,), for example using ravel().\n  estimator.fit(X_train, y_train, **fit_params)\nC:\\Users\\Yailin\\AppData\\Local\\Programs\\Python\\Python37-32\\lib\\site-packages\\sklearn\\model_selection\\_validation.py:515: DataConversionWarning: A column-vector y was passed when a 1d array was expected. Please change the shape of y to (n_samples, ), for example using ravel().\n  estimator.fit(X_train, y_train, **fit_params)\nC:\\Users\\Yailin\\AppData\\Local\\Programs\\Python\\Python37-32\\lib\\site-packages\\sklearn\\model_selection\\_validation.py:515: DataConversionWarning: A column-vector y was passed when a 1d array was expected. Please change the shape of y to (n_samples, ), for example using ravel().\n  estimator.fit(X_train, y_train, **fit_params)\nC:\\Users\\Yailin\\AppData\\Local\\Programs\\Python\\Python37-32\\lib\\site-packages\\sklearn\\model_selection\\_validation.py:515: DataConversionWarning: A column-vector y was passed when a 1d array was expected. Please change the shape of y to (n_samples, ), for example using ravel().\n  estimator.fit(X_train, y_train, **fit_params)\nC:\\Users\\Yailin\\AppData\\Local\\Programs\\Python\\Python37-32\\lib\\site-packages\\sklearn\\utils\\validation.py:760: DataConversionWarning: A column-vector y was passed when a 1d array was expected. Please change the shape of y to (n_samples, ), for example using ravel().\n  y = column_or_1d(y, warn=True)\nC:\\Users\\Yailin\\AppData\\Local\\Programs\\Python\\Python37-32\\lib\\site-packages\\sklearn\\svm\\_base.py:947: ConvergenceWarning: Liblinear failed to converge, increase the number of iterations.\n  \"the number of iterations.\", ConvergenceWarning)\nC:\\Users\\Yailin\\AppData\\Local\\Programs\\Python\\Python37-32\\lib\\site-packages\\sklearn\\utils\\validation.py:760: DataConversionWarning: A column-vector y was passed when a 1d array was expected. Please change the shape of y to (n_samples, ), for example using ravel().\n  y = column_or_1d(y, warn=True)\nC:\\Users\\Yailin\\AppData\\Local\\Programs\\Python\\Python37-32\\lib\\site-packages\\sklearn\\svm\\_base.py:947: ConvergenceWarning: Liblinear failed to converge, increase the number of iterations.\n  \"the number of iterations.\", ConvergenceWarning)\nC:\\Users\\Yailin\\AppData\\Local\\Programs\\Python\\Python37-32\\lib\\site-packages\\sklearn\\utils\\validation.py:760: DataConversionWarning: A column-vector y was passed when a 1d array was expected. Please change the shape of y to (n_samples, ), for example using ravel().\n  y = column_or_1d(y, warn=True)\nC:\\Users\\Yailin\\AppData\\Local\\Programs\\Python\\Python37-32\\lib\\site-packages\\sklearn\\svm\\_base.py:947: ConvergenceWarning: Liblinear failed to converge, increase the number of iterations.\n  \"the number of iterations.\", ConvergenceWarning)\nC:\\Users\\Yailin\\AppData\\Local\\Programs\\Python\\Python37-32\\lib\\site-packages\\sklearn\\neural_network\\_multilayer_perceptron.py:934: DataConversionWarning: A column-vector y was passed when a 1d array was expected. Please change the shape of y to (n_samples, ), for example using ravel().\n  y = column_or_1d(y, warn=True)\nC:\\Users\\Yailin\\AppData\\Local\\Programs\\Python\\Python37-32\\lib\\site-packages\\sklearn\\neural_network\\_multilayer_perceptron.py:934: DataConversionWarning: A column-vector y was passed when a 1d array was expected. Please change the shape of y to (n_samples, ), for example using ravel().\n  y = column_or_1d(y, warn=True)\nC:\\Users\\Yailin\\AppData\\Local\\Programs\\Python\\Python37-32\\lib\\site-packages\\sklearn\\neural_network\\_multilayer_perceptron.py:934: DataConversionWarning: A column-vector y was passed when a 1d array was expected. Please change the shape of y to (n_samples, ), for example using ravel().\n  y = column_or_1d(y, warn=True)\n"
    },
    {
     "data": {
      "text/html": "<div>\n<style scoped>\n    .dataframe tbody tr th:only-of-type {\n        vertical-align: middle;\n    }\n\n    .dataframe tbody tr th {\n        vertical-align: top;\n    }\n\n    .dataframe thead th {\n        text-align: right;\n    }\n</style>\n<table border=\"1\" class=\"dataframe\">\n  <thead>\n    <tr style=\"text-align: right;\">\n      <th></th>\n      <th>Model</th>\n      <th>Mean</th>\n      <th>Min</th>\n      <th>Max</th>\n      <th>Std</th>\n      <th>Mad</th>\n      <th>Score</th>\n    </tr>\n  </thead>\n  <tbody>\n    <tr>\n      <th>3</th>\n      <td>Random Forest</td>\n      <td>0.700135</td>\n      <td>0.327320</td>\n      <td>0.886579</td>\n      <td>0.263620</td>\n      <td>0.248544</td>\n      <td>[0.8865070376961657, 0.8865787557640967, 0.327...</td>\n    </tr>\n    <tr>\n      <th>6</th>\n      <td>Neural Network</td>\n      <td>0.628863</td>\n      <td>0.113502</td>\n      <td>0.886579</td>\n      <td>0.364415</td>\n      <td>0.343574</td>\n      <td>[0.8865070376961657, 0.8865787557640967, 0.113...</td>\n    </tr>\n    <tr>\n      <th>5</th>\n      <td>Linear SVC</td>\n      <td>0.607640</td>\n      <td>0.114554</td>\n      <td>0.886912</td>\n      <td>0.349687</td>\n      <td>0.328724</td>\n      <td>[0.8869115029930432, 0.8214545748725831, 0.114...</td>\n    </tr>\n    <tr>\n      <th>2</th>\n      <td>Bernoulli NB</td>\n      <td>0.535316</td>\n      <td>0.234447</td>\n      <td>0.890794</td>\n      <td>0.270721</td>\n      <td>0.236986</td>\n      <td>[0.8907943698430675, 0.48070544454332176, 0.23...</td>\n    </tr>\n    <tr>\n      <th>4</th>\n      <td>KNeighborsClassifier</td>\n      <td>0.502498</td>\n      <td>0.254834</td>\n      <td>0.883757</td>\n      <td>0.273583</td>\n      <td>0.254173</td>\n      <td>[0.8837566736773985, 0.36890219237925737, 0.25...</td>\n    </tr>\n    <tr>\n      <th>0</th>\n      <td>Logistic Regression</td>\n      <td>0.469598</td>\n      <td>0.259283</td>\n      <td>0.886750</td>\n      <td>0.294974</td>\n      <td>0.278101</td>\n      <td>[0.8867497168742922, 0.2627619124666289, 0.259...</td>\n    </tr>\n    <tr>\n      <th>1</th>\n      <td>Gaussian NB</td>\n      <td>0.448456</td>\n      <td>0.223040</td>\n      <td>0.889905</td>\n      <td>0.312174</td>\n      <td>0.294299</td>\n      <td>[0.8899045461899369, 0.2230402071029852, 0.232...</td>\n    </tr>\n  </tbody>\n</table>\n</div>",
      "text/plain": "                  Model      Mean       Min       Max       Std       Mad  \\\n3         Random Forest  0.700135  0.327320  0.886579  0.263620  0.248544   \n6        Neural Network  0.628863  0.113502  0.886579  0.364415  0.343574   \n5            Linear SVC  0.607640  0.114554  0.886912  0.349687  0.328724   \n2          Bernoulli NB  0.535316  0.234447  0.890794  0.270721  0.236986   \n4  KNeighborsClassifier  0.502498  0.254834  0.883757  0.273583  0.254173   \n0   Logistic Regression  0.469598  0.259283  0.886750  0.294974  0.278101   \n1           Gaussian NB  0.448456  0.223040  0.889905  0.312174  0.294299   \n\n                                               Score  \n3  [0.8865070376961657, 0.8865787557640967, 0.327...  \n6  [0.8865070376961657, 0.8865787557640967, 0.113...  \n5  [0.8869115029930432, 0.8214545748725831, 0.114...  \n2  [0.8907943698430675, 0.48070544454332176, 0.23...  \n4  [0.8837566736773985, 0.36890219237925737, 0.25...  \n0  [0.8867497168742922, 0.2627619124666289, 0.259...  \n1  [0.8899045461899369, 0.2230402071029852, 0.232...  "
     },
     "execution_count": 59,
     "metadata": {},
     "output_type": "execute_result"
    }
   ],
   "source": [
    "compare_models(features, target, classifiers, folds=3)"
   ]
  },
  {
   "cell_type": "markdown",
   "execution_count": null,
   "metadata": {},
   "outputs": [],
   "source": [
    "## Analysing test and sample csv"
   ]
  },
  {
   "cell_type": "code",
   "execution_count": 42,
   "metadata": {},
   "outputs": [],
   "source": [
    "test = pd.read_csv('test.csv')"
   ]
  },
  {
   "cell_type": "code",
   "execution_count": 43,
   "metadata": {},
   "outputs": [
    {
     "data": {
      "text/html": "<div>\n<style scoped>\n    .dataframe tbody tr th:only-of-type {\n        vertical-align: middle;\n    }\n\n    .dataframe tbody tr th {\n        vertical-align: top;\n    }\n\n    .dataframe thead th {\n        text-align: right;\n    }\n</style>\n<table border=\"1\" class=\"dataframe\">\n  <thead>\n    <tr style=\"text-align: right;\">\n      <th></th>\n      <th>age</th>\n      <th>job</th>\n      <th>marital</th>\n      <th>education</th>\n      <th>default</th>\n      <th>housing</th>\n      <th>loan</th>\n      <th>contact</th>\n      <th>month</th>\n      <th>day_of_week</th>\n      <th>...</th>\n      <th>campaign</th>\n      <th>pdays</th>\n      <th>previous</th>\n      <th>poutcome</th>\n      <th>emp.var.rate</th>\n      <th>cons.price.idx</th>\n      <th>cons.conf.idx</th>\n      <th>euribor3m</th>\n      <th>nr.employed</th>\n      <th>id_var</th>\n    </tr>\n  </thead>\n  <tbody>\n    <tr>\n      <th>0</th>\n      <td>56</td>\n      <td>housemaid</td>\n      <td>married</td>\n      <td>basic.4y</td>\n      <td>no</td>\n      <td>no</td>\n      <td>no</td>\n      <td>telephone</td>\n      <td>may</td>\n      <td>mon</td>\n      <td>...</td>\n      <td>1</td>\n      <td>999</td>\n      <td>0</td>\n      <td>nonexistent</td>\n      <td>1.1</td>\n      <td>93.994</td>\n      <td>-36.4</td>\n      <td>4.857</td>\n      <td>5191.0</td>\n      <td>43935</td>\n    </tr>\n    <tr>\n      <th>1</th>\n      <td>57</td>\n      <td>services</td>\n      <td>married</td>\n      <td>high.school</td>\n      <td>unknown</td>\n      <td>no</td>\n      <td>no</td>\n      <td>telephone</td>\n      <td>may</td>\n      <td>mon</td>\n      <td>...</td>\n      <td>1</td>\n      <td>999</td>\n      <td>0</td>\n      <td>nonexistent</td>\n      <td>1.1</td>\n      <td>93.994</td>\n      <td>-36.4</td>\n      <td>4.857</td>\n      <td>5191.0</td>\n      <td>73973</td>\n    </tr>\n    <tr>\n      <th>2</th>\n      <td>37</td>\n      <td>services</td>\n      <td>married</td>\n      <td>high.school</td>\n      <td>no</td>\n      <td>yes</td>\n      <td>no</td>\n      <td>telephone</td>\n      <td>may</td>\n      <td>mon</td>\n      <td>...</td>\n      <td>1</td>\n      <td>999</td>\n      <td>0</td>\n      <td>nonexistent</td>\n      <td>1.1</td>\n      <td>93.994</td>\n      <td>-36.4</td>\n      <td>4.857</td>\n      <td>5191.0</td>\n      <td>72312</td>\n    </tr>\n    <tr>\n      <th>3</th>\n      <td>40</td>\n      <td>admin.</td>\n      <td>married</td>\n      <td>basic.6y</td>\n      <td>no</td>\n      <td>no</td>\n      <td>no</td>\n      <td>telephone</td>\n      <td>may</td>\n      <td>mon</td>\n      <td>...</td>\n      <td>1</td>\n      <td>999</td>\n      <td>0</td>\n      <td>nonexistent</td>\n      <td>1.1</td>\n      <td>93.994</td>\n      <td>-36.4</td>\n      <td>4.857</td>\n      <td>5191.0</td>\n      <td>74889</td>\n    </tr>\n    <tr>\n      <th>4</th>\n      <td>30</td>\n      <td>unemployed</td>\n      <td>married</td>\n      <td>high.school</td>\n      <td>no</td>\n      <td>no</td>\n      <td>no</td>\n      <td>telephone</td>\n      <td>may</td>\n      <td>mon</td>\n      <td>...</td>\n      <td>1</td>\n      <td>999</td>\n      <td>0</td>\n      <td>nonexistent</td>\n      <td>1.1</td>\n      <td>93.994</td>\n      <td>-36.4</td>\n      <td>4.857</td>\n      <td>5191.0</td>\n      <td>49787</td>\n    </tr>\n  </tbody>\n</table>\n<p>5 rows × 21 columns</p>\n</div>",
      "text/plain": "   age         job  marital    education  default housing loan    contact  \\\n0   56   housemaid  married     basic.4y       no      no   no  telephone   \n1   57    services  married  high.school  unknown      no   no  telephone   \n2   37    services  married  high.school       no     yes   no  telephone   \n3   40      admin.  married     basic.6y       no      no   no  telephone   \n4   30  unemployed  married  high.school       no      no   no  telephone   \n\n  month day_of_week  ...  campaign  pdays  previous     poutcome emp.var.rate  \\\n0   may         mon  ...         1    999         0  nonexistent          1.1   \n1   may         mon  ...         1    999         0  nonexistent          1.1   \n2   may         mon  ...         1    999         0  nonexistent          1.1   \n3   may         mon  ...         1    999         0  nonexistent          1.1   \n4   may         mon  ...         1    999         0  nonexistent          1.1   \n\n   cons.price.idx  cons.conf.idx  euribor3m  nr.employed  id_var  \n0          93.994          -36.4      4.857       5191.0   43935  \n1          93.994          -36.4      4.857       5191.0   73973  \n2          93.994          -36.4      4.857       5191.0   72312  \n3          93.994          -36.4      4.857       5191.0   74889  \n4          93.994          -36.4      4.857       5191.0   49787  \n\n[5 rows x 21 columns]"
     },
     "execution_count": 43,
     "metadata": {},
     "output_type": "execute_result"
    }
   ],
   "source": [
    "test.head()"
   ]
  },
  {
   "cell_type": "code",
   "execution_count": 53,
   "metadata": {},
   "outputs": [
    {
     "data": {
      "text/plain": "(4104, 17)"
     },
     "execution_count": 53,
     "metadata": {},
     "output_type": "execute_result"
    }
   ],
   "source": [
    "test.shape"
   ]
  },
  {
   "cell_type": "code",
   "execution_count": 51,
   "metadata": {},
   "outputs": [],
   "source": [
    "sample = pd.read_csv('sample-submission.csv')"
   ]
  },
  {
   "cell_type": "code",
   "execution_count": 52,
   "metadata": {},
   "outputs": [
    {
     "data": {
      "text/plain": "(4104, 2)"
     },
     "execution_count": 52,
     "metadata": {},
     "output_type": "execute_result"
    }
   ],
   "source": [
    "sample.shape"
   ]
  },
  {
   "cell_type": "code",
   "execution_count": 44,
   "metadata": {},
   "outputs": [],
   "source": [
    "test.drop(columns = ['id_var', 'duration'], inplace = True)"
   ]
  },
  {
   "cell_type": "code",
   "execution_count": 46,
   "metadata": {},
   "outputs": [
    {
     "data": {
      "text/html": "<div>\n<style scoped>\n    .dataframe tbody tr th:only-of-type {\n        vertical-align: middle;\n    }\n\n    .dataframe tbody tr th {\n        vertical-align: top;\n    }\n\n    .dataframe thead th {\n        text-align: right;\n    }\n</style>\n<table border=\"1\" class=\"dataframe\">\n  <thead>\n    <tr style=\"text-align: right;\">\n      <th></th>\n      <th>age</th>\n      <th>job</th>\n      <th>marital</th>\n      <th>education</th>\n      <th>default</th>\n      <th>housing</th>\n      <th>loan</th>\n      <th>contact</th>\n      <th>month</th>\n      <th>day_of_week</th>\n      <th>campaign</th>\n      <th>pdays</th>\n      <th>previous</th>\n      <th>poutcome</th>\n      <th>emp.var.rate</th>\n      <th>cons.price.idx</th>\n      <th>cons.conf.idx</th>\n    </tr>\n  </thead>\n  <tbody>\n    <tr>\n      <th>0</th>\n      <td>56</td>\n      <td>housemaid</td>\n      <td>married</td>\n      <td>basic.4y</td>\n      <td>no</td>\n      <td>no</td>\n      <td>no</td>\n      <td>telephone</td>\n      <td>may</td>\n      <td>mon</td>\n      <td>1</td>\n      <td>999</td>\n      <td>0</td>\n      <td>nonexistent</td>\n      <td>1.1</td>\n      <td>93.994</td>\n      <td>-36.4</td>\n    </tr>\n    <tr>\n      <th>1</th>\n      <td>57</td>\n      <td>services</td>\n      <td>married</td>\n      <td>high.school</td>\n      <td>unknown</td>\n      <td>no</td>\n      <td>no</td>\n      <td>telephone</td>\n      <td>may</td>\n      <td>mon</td>\n      <td>1</td>\n      <td>999</td>\n      <td>0</td>\n      <td>nonexistent</td>\n      <td>1.1</td>\n      <td>93.994</td>\n      <td>-36.4</td>\n    </tr>\n    <tr>\n      <th>2</th>\n      <td>37</td>\n      <td>services</td>\n      <td>married</td>\n      <td>high.school</td>\n      <td>no</td>\n      <td>yes</td>\n      <td>no</td>\n      <td>telephone</td>\n      <td>may</td>\n      <td>mon</td>\n      <td>1</td>\n      <td>999</td>\n      <td>0</td>\n      <td>nonexistent</td>\n      <td>1.1</td>\n      <td>93.994</td>\n      <td>-36.4</td>\n    </tr>\n    <tr>\n      <th>3</th>\n      <td>40</td>\n      <td>admin.</td>\n      <td>married</td>\n      <td>basic.6y</td>\n      <td>no</td>\n      <td>no</td>\n      <td>no</td>\n      <td>telephone</td>\n      <td>may</td>\n      <td>mon</td>\n      <td>1</td>\n      <td>999</td>\n      <td>0</td>\n      <td>nonexistent</td>\n      <td>1.1</td>\n      <td>93.994</td>\n      <td>-36.4</td>\n    </tr>\n    <tr>\n      <th>4</th>\n      <td>30</td>\n      <td>unemployed</td>\n      <td>married</td>\n      <td>high.school</td>\n      <td>no</td>\n      <td>no</td>\n      <td>no</td>\n      <td>telephone</td>\n      <td>may</td>\n      <td>mon</td>\n      <td>1</td>\n      <td>999</td>\n      <td>0</td>\n      <td>nonexistent</td>\n      <td>1.1</td>\n      <td>93.994</td>\n      <td>-36.4</td>\n    </tr>\n  </tbody>\n</table>\n</div>",
      "text/plain": "   age         job  marital    education  default housing loan    contact  \\\n0   56   housemaid  married     basic.4y       no      no   no  telephone   \n1   57    services  married  high.school  unknown      no   no  telephone   \n2   37    services  married  high.school       no     yes   no  telephone   \n3   40      admin.  married     basic.6y       no      no   no  telephone   \n4   30  unemployed  married  high.school       no      no   no  telephone   \n\n  month day_of_week  campaign  pdays  previous     poutcome  emp.var.rate  \\\n0   may         mon         1    999         0  nonexistent           1.1   \n1   may         mon         1    999         0  nonexistent           1.1   \n2   may         mon         1    999         0  nonexistent           1.1   \n3   may         mon         1    999         0  nonexistent           1.1   \n4   may         mon         1    999         0  nonexistent           1.1   \n\n   cons.price.idx  cons.conf.idx  \n0          93.994          -36.4  \n1          93.994          -36.4  \n2          93.994          -36.4  \n3          93.994          -36.4  \n4          93.994          -36.4  "
     },
     "execution_count": 46,
     "metadata": {},
     "output_type": "execute_result"
    }
   ],
   "source": [
    "test.drop(test[to_drop], axis = 1, inplace = True)\n",
    "test.head()"
   ]
  },
  {
   "cell_type": "code",
   "execution_count": 47,
   "metadata": {},
   "outputs": [
    {
     "data": {
      "text/html": "<div>\n<style scoped>\n    .dataframe tbody tr th:only-of-type {\n        vertical-align: middle;\n    }\n\n    .dataframe tbody tr th {\n        vertical-align: top;\n    }\n\n    .dataframe thead th {\n        text-align: right;\n    }\n</style>\n<table border=\"1\" class=\"dataframe\">\n  <thead>\n    <tr style=\"text-align: right;\">\n      <th></th>\n      <th>job_admin.</th>\n      <th>job_blue-collar</th>\n      <th>job_entrepreneur</th>\n      <th>job_housemaid</th>\n      <th>job_management</th>\n      <th>job_retired</th>\n      <th>job_self-employed</th>\n      <th>job_services</th>\n      <th>job_student</th>\n      <th>job_technician</th>\n      <th>...</th>\n      <th>month_oct</th>\n      <th>month_sep</th>\n      <th>day_of_week_fri</th>\n      <th>day_of_week_mon</th>\n      <th>day_of_week_thu</th>\n      <th>day_of_week_tue</th>\n      <th>day_of_week_wed</th>\n      <th>poutcome_failure</th>\n      <th>poutcome_nonexistent</th>\n      <th>poutcome_success</th>\n    </tr>\n  </thead>\n  <tbody>\n    <tr>\n      <th>0</th>\n      <td>0</td>\n      <td>0</td>\n      <td>0</td>\n      <td>1</td>\n      <td>0</td>\n      <td>0</td>\n      <td>0</td>\n      <td>0</td>\n      <td>0</td>\n      <td>0</td>\n      <td>...</td>\n      <td>0</td>\n      <td>0</td>\n      <td>0</td>\n      <td>1</td>\n      <td>0</td>\n      <td>0</td>\n      <td>0</td>\n      <td>0</td>\n      <td>1</td>\n      <td>0</td>\n    </tr>\n    <tr>\n      <th>1</th>\n      <td>0</td>\n      <td>0</td>\n      <td>0</td>\n      <td>0</td>\n      <td>0</td>\n      <td>0</td>\n      <td>0</td>\n      <td>1</td>\n      <td>0</td>\n      <td>0</td>\n      <td>...</td>\n      <td>0</td>\n      <td>0</td>\n      <td>0</td>\n      <td>1</td>\n      <td>0</td>\n      <td>0</td>\n      <td>0</td>\n      <td>0</td>\n      <td>1</td>\n      <td>0</td>\n    </tr>\n    <tr>\n      <th>2</th>\n      <td>0</td>\n      <td>0</td>\n      <td>0</td>\n      <td>0</td>\n      <td>0</td>\n      <td>0</td>\n      <td>0</td>\n      <td>1</td>\n      <td>0</td>\n      <td>0</td>\n      <td>...</td>\n      <td>0</td>\n      <td>0</td>\n      <td>0</td>\n      <td>1</td>\n      <td>0</td>\n      <td>0</td>\n      <td>0</td>\n      <td>0</td>\n      <td>1</td>\n      <td>0</td>\n    </tr>\n    <tr>\n      <th>3</th>\n      <td>1</td>\n      <td>0</td>\n      <td>0</td>\n      <td>0</td>\n      <td>0</td>\n      <td>0</td>\n      <td>0</td>\n      <td>0</td>\n      <td>0</td>\n      <td>0</td>\n      <td>...</td>\n      <td>0</td>\n      <td>0</td>\n      <td>0</td>\n      <td>1</td>\n      <td>0</td>\n      <td>0</td>\n      <td>0</td>\n      <td>0</td>\n      <td>1</td>\n      <td>0</td>\n    </tr>\n    <tr>\n      <th>4</th>\n      <td>0</td>\n      <td>0</td>\n      <td>0</td>\n      <td>0</td>\n      <td>0</td>\n      <td>0</td>\n      <td>0</td>\n      <td>0</td>\n      <td>0</td>\n      <td>0</td>\n      <td>...</td>\n      <td>0</td>\n      <td>0</td>\n      <td>0</td>\n      <td>1</td>\n      <td>0</td>\n      <td>0</td>\n      <td>0</td>\n      <td>0</td>\n      <td>1</td>\n      <td>0</td>\n    </tr>\n    <tr>\n      <th>...</th>\n      <td>...</td>\n      <td>...</td>\n      <td>...</td>\n      <td>...</td>\n      <td>...</td>\n      <td>...</td>\n      <td>...</td>\n      <td>...</td>\n      <td>...</td>\n      <td>...</td>\n      <td>...</td>\n      <td>...</td>\n      <td>...</td>\n      <td>...</td>\n      <td>...</td>\n      <td>...</td>\n      <td>...</td>\n      <td>...</td>\n      <td>...</td>\n      <td>...</td>\n      <td>...</td>\n    </tr>\n    <tr>\n      <th>4099</th>\n      <td>1</td>\n      <td>0</td>\n      <td>0</td>\n      <td>0</td>\n      <td>0</td>\n      <td>0</td>\n      <td>0</td>\n      <td>0</td>\n      <td>0</td>\n      <td>0</td>\n      <td>...</td>\n      <td>0</td>\n      <td>0</td>\n      <td>0</td>\n      <td>1</td>\n      <td>0</td>\n      <td>0</td>\n      <td>0</td>\n      <td>1</td>\n      <td>0</td>\n      <td>0</td>\n    </tr>\n    <tr>\n      <th>4100</th>\n      <td>0</td>\n      <td>0</td>\n      <td>0</td>\n      <td>0</td>\n      <td>0</td>\n      <td>0</td>\n      <td>0</td>\n      <td>0</td>\n      <td>0</td>\n      <td>1</td>\n      <td>...</td>\n      <td>0</td>\n      <td>0</td>\n      <td>0</td>\n      <td>0</td>\n      <td>0</td>\n      <td>1</td>\n      <td>0</td>\n      <td>0</td>\n      <td>0</td>\n      <td>1</td>\n    </tr>\n    <tr>\n      <th>4101</th>\n      <td>0</td>\n      <td>0</td>\n      <td>0</td>\n      <td>0</td>\n      <td>0</td>\n      <td>0</td>\n      <td>0</td>\n      <td>0</td>\n      <td>0</td>\n      <td>1</td>\n      <td>...</td>\n      <td>0</td>\n      <td>0</td>\n      <td>0</td>\n      <td>0</td>\n      <td>0</td>\n      <td>1</td>\n      <td>0</td>\n      <td>0</td>\n      <td>0</td>\n      <td>1</td>\n    </tr>\n    <tr>\n      <th>4102</th>\n      <td>1</td>\n      <td>0</td>\n      <td>0</td>\n      <td>0</td>\n      <td>0</td>\n      <td>0</td>\n      <td>0</td>\n      <td>0</td>\n      <td>0</td>\n      <td>0</td>\n      <td>...</td>\n      <td>0</td>\n      <td>0</td>\n      <td>1</td>\n      <td>0</td>\n      <td>0</td>\n      <td>0</td>\n      <td>0</td>\n      <td>0</td>\n      <td>1</td>\n      <td>0</td>\n    </tr>\n    <tr>\n      <th>4103</th>\n      <td>0</td>\n      <td>0</td>\n      <td>0</td>\n      <td>0</td>\n      <td>0</td>\n      <td>0</td>\n      <td>0</td>\n      <td>0</td>\n      <td>0</td>\n      <td>0</td>\n      <td>...</td>\n      <td>0</td>\n      <td>0</td>\n      <td>1</td>\n      <td>0</td>\n      <td>0</td>\n      <td>0</td>\n      <td>0</td>\n      <td>0</td>\n      <td>0</td>\n      <td>1</td>\n    </tr>\n  </tbody>\n</table>\n<p>4104 rows × 53 columns</p>\n</div>",
      "text/plain": "      job_admin.  job_blue-collar  job_entrepreneur  job_housemaid  \\\n0              0                0                 0              1   \n1              0                0                 0              0   \n2              0                0                 0              0   \n3              1                0                 0              0   \n4              0                0                 0              0   \n...          ...              ...               ...            ...   \n4099           1                0                 0              0   \n4100           0                0                 0              0   \n4101           0                0                 0              0   \n4102           1                0                 0              0   \n4103           0                0                 0              0   \n\n      job_management  job_retired  job_self-employed  job_services  \\\n0                  0            0                  0             0   \n1                  0            0                  0             1   \n2                  0            0                  0             1   \n3                  0            0                  0             0   \n4                  0            0                  0             0   \n...              ...          ...                ...           ...   \n4099               0            0                  0             0   \n4100               0            0                  0             0   \n4101               0            0                  0             0   \n4102               0            0                  0             0   \n4103               0            0                  0             0   \n\n      job_student  job_technician  ...  month_oct  month_sep  day_of_week_fri  \\\n0               0               0  ...          0          0                0   \n1               0               0  ...          0          0                0   \n2               0               0  ...          0          0                0   \n3               0               0  ...          0          0                0   \n4               0               0  ...          0          0                0   \n...           ...             ...  ...        ...        ...              ...   \n4099            0               0  ...          0          0                0   \n4100            0               1  ...          0          0                0   \n4101            0               1  ...          0          0                0   \n4102            0               0  ...          0          0                1   \n4103            0               0  ...          0          0                1   \n\n      day_of_week_mon  day_of_week_thu  day_of_week_tue  day_of_week_wed  \\\n0                   1                0                0                0   \n1                   1                0                0                0   \n2                   1                0                0                0   \n3                   1                0                0                0   \n4                   1                0                0                0   \n...               ...              ...              ...              ...   \n4099                1                0                0                0   \n4100                0                0                1                0   \n4101                0                0                1                0   \n4102                0                0                0                0   \n4103                0                0                0                0   \n\n      poutcome_failure  poutcome_nonexistent  poutcome_success  \n0                    0                     1                 0  \n1                    0                     1                 0  \n2                    0                     1                 0  \n3                    0                     1                 0  \n4                    0                     1                 0  \n...                ...                   ...               ...  \n4099                 1                     0                 0  \n4100                 0                     0                 1  \n4101                 0                     0                 1  \n4102                 0                     1                 0  \n4103                 0                     0                 1  \n\n[4104 rows x 53 columns]"
     },
     "execution_count": 47,
     "metadata": {},
     "output_type": "execute_result"
    }
   ],
   "source": [
    "cat_test_dummies = pd.get_dummies(test[cat_data.columns])\n",
    "cat_test_dummies"
   ]
  },
  {
   "cell_type": "code",
   "execution_count": 48,
   "metadata": {},
   "outputs": [
    {
     "data": {
      "text/html": "<div>\n<style scoped>\n    .dataframe tbody tr th:only-of-type {\n        vertical-align: middle;\n    }\n\n    .dataframe tbody tr th {\n        vertical-align: top;\n    }\n\n    .dataframe thead th {\n        text-align: right;\n    }\n</style>\n<table border=\"1\" class=\"dataframe\">\n  <thead>\n    <tr style=\"text-align: right;\">\n      <th></th>\n      <th>age</th>\n      <th>campaign</th>\n      <th>pdays</th>\n      <th>previous</th>\n      <th>emp.var.rate</th>\n      <th>cons.price.idx</th>\n      <th>cons.conf.idx</th>\n    </tr>\n  </thead>\n  <tbody>\n    <tr>\n      <th>0</th>\n      <td>56</td>\n      <td>1</td>\n      <td>999</td>\n      <td>0</td>\n      <td>1.1</td>\n      <td>93.994</td>\n      <td>-36.4</td>\n    </tr>\n    <tr>\n      <th>1</th>\n      <td>57</td>\n      <td>1</td>\n      <td>999</td>\n      <td>0</td>\n      <td>1.1</td>\n      <td>93.994</td>\n      <td>-36.4</td>\n    </tr>\n    <tr>\n      <th>2</th>\n      <td>37</td>\n      <td>1</td>\n      <td>999</td>\n      <td>0</td>\n      <td>1.1</td>\n      <td>93.994</td>\n      <td>-36.4</td>\n    </tr>\n    <tr>\n      <th>3</th>\n      <td>40</td>\n      <td>1</td>\n      <td>999</td>\n      <td>0</td>\n      <td>1.1</td>\n      <td>93.994</td>\n      <td>-36.4</td>\n    </tr>\n    <tr>\n      <th>4</th>\n      <td>30</td>\n      <td>1</td>\n      <td>999</td>\n      <td>0</td>\n      <td>1.1</td>\n      <td>93.994</td>\n      <td>-36.4</td>\n    </tr>\n  </tbody>\n</table>\n</div>",
      "text/plain": "   age  campaign  pdays  previous  emp.var.rate  cons.price.idx  cons.conf.idx\n0   56         1    999         0           1.1          93.994          -36.4\n1   57         1    999         0           1.1          93.994          -36.4\n2   37         1    999         0           1.1          93.994          -36.4\n3   40         1    999         0           1.1          93.994          -36.4\n4   30         1    999         0           1.1          93.994          -36.4"
     },
     "execution_count": 48,
     "metadata": {},
     "output_type": "execute_result"
    }
   ],
   "source": [
    "df1 = test.copy()\n",
    "df1.drop(columns = cat_data.columns, inplace = True)\n",
    "df1.head()"
   ]
  },
  {
   "cell_type": "code",
   "execution_count": 49,
   "metadata": {},
   "outputs": [
    {
     "data": {
      "text/html": "<div>\n<style scoped>\n    .dataframe tbody tr th:only-of-type {\n        vertical-align: middle;\n    }\n\n    .dataframe tbody tr th {\n        vertical-align: top;\n    }\n\n    .dataframe thead th {\n        text-align: right;\n    }\n</style>\n<table border=\"1\" class=\"dataframe\">\n  <thead>\n    <tr style=\"text-align: right;\">\n      <th></th>\n      <th>job_admin.</th>\n      <th>job_blue-collar</th>\n      <th>job_entrepreneur</th>\n      <th>job_housemaid</th>\n      <th>job_management</th>\n      <th>job_retired</th>\n      <th>job_self-employed</th>\n      <th>job_services</th>\n      <th>job_student</th>\n      <th>job_technician</th>\n      <th>...</th>\n      <th>poutcome_failure</th>\n      <th>poutcome_nonexistent</th>\n      <th>poutcome_success</th>\n      <th>age</th>\n      <th>campaign</th>\n      <th>pdays</th>\n      <th>previous</th>\n      <th>emp.var.rate</th>\n      <th>cons.price.idx</th>\n      <th>cons.conf.idx</th>\n    </tr>\n  </thead>\n  <tbody>\n    <tr>\n      <th>0</th>\n      <td>0</td>\n      <td>0</td>\n      <td>0</td>\n      <td>1</td>\n      <td>0</td>\n      <td>0</td>\n      <td>0</td>\n      <td>0</td>\n      <td>0</td>\n      <td>0</td>\n      <td>...</td>\n      <td>0</td>\n      <td>1</td>\n      <td>0</td>\n      <td>56</td>\n      <td>1</td>\n      <td>999</td>\n      <td>0</td>\n      <td>1.1</td>\n      <td>93.994</td>\n      <td>-36.4</td>\n    </tr>\n    <tr>\n      <th>1</th>\n      <td>0</td>\n      <td>0</td>\n      <td>0</td>\n      <td>0</td>\n      <td>0</td>\n      <td>0</td>\n      <td>0</td>\n      <td>1</td>\n      <td>0</td>\n      <td>0</td>\n      <td>...</td>\n      <td>0</td>\n      <td>1</td>\n      <td>0</td>\n      <td>57</td>\n      <td>1</td>\n      <td>999</td>\n      <td>0</td>\n      <td>1.1</td>\n      <td>93.994</td>\n      <td>-36.4</td>\n    </tr>\n    <tr>\n      <th>2</th>\n      <td>0</td>\n      <td>0</td>\n      <td>0</td>\n      <td>0</td>\n      <td>0</td>\n      <td>0</td>\n      <td>0</td>\n      <td>1</td>\n      <td>0</td>\n      <td>0</td>\n      <td>...</td>\n      <td>0</td>\n      <td>1</td>\n      <td>0</td>\n      <td>37</td>\n      <td>1</td>\n      <td>999</td>\n      <td>0</td>\n      <td>1.1</td>\n      <td>93.994</td>\n      <td>-36.4</td>\n    </tr>\n    <tr>\n      <th>3</th>\n      <td>1</td>\n      <td>0</td>\n      <td>0</td>\n      <td>0</td>\n      <td>0</td>\n      <td>0</td>\n      <td>0</td>\n      <td>0</td>\n      <td>0</td>\n      <td>0</td>\n      <td>...</td>\n      <td>0</td>\n      <td>1</td>\n      <td>0</td>\n      <td>40</td>\n      <td>1</td>\n      <td>999</td>\n      <td>0</td>\n      <td>1.1</td>\n      <td>93.994</td>\n      <td>-36.4</td>\n    </tr>\n    <tr>\n      <th>4</th>\n      <td>0</td>\n      <td>0</td>\n      <td>0</td>\n      <td>0</td>\n      <td>0</td>\n      <td>0</td>\n      <td>0</td>\n      <td>0</td>\n      <td>0</td>\n      <td>0</td>\n      <td>...</td>\n      <td>0</td>\n      <td>1</td>\n      <td>0</td>\n      <td>30</td>\n      <td>1</td>\n      <td>999</td>\n      <td>0</td>\n      <td>1.1</td>\n      <td>93.994</td>\n      <td>-36.4</td>\n    </tr>\n    <tr>\n      <th>...</th>\n      <td>...</td>\n      <td>...</td>\n      <td>...</td>\n      <td>...</td>\n      <td>...</td>\n      <td>...</td>\n      <td>...</td>\n      <td>...</td>\n      <td>...</td>\n      <td>...</td>\n      <td>...</td>\n      <td>...</td>\n      <td>...</td>\n      <td>...</td>\n      <td>...</td>\n      <td>...</td>\n      <td>...</td>\n      <td>...</td>\n      <td>...</td>\n      <td>...</td>\n      <td>...</td>\n    </tr>\n    <tr>\n      <th>4099</th>\n      <td>1</td>\n      <td>0</td>\n      <td>0</td>\n      <td>0</td>\n      <td>0</td>\n      <td>0</td>\n      <td>0</td>\n      <td>0</td>\n      <td>0</td>\n      <td>0</td>\n      <td>...</td>\n      <td>1</td>\n      <td>0</td>\n      <td>0</td>\n      <td>32</td>\n      <td>2</td>\n      <td>999</td>\n      <td>2</td>\n      <td>-1.1</td>\n      <td>94.767</td>\n      <td>-50.8</td>\n    </tr>\n    <tr>\n      <th>4100</th>\n      <td>0</td>\n      <td>0</td>\n      <td>0</td>\n      <td>0</td>\n      <td>0</td>\n      <td>0</td>\n      <td>0</td>\n      <td>0</td>\n      <td>0</td>\n      <td>1</td>\n      <td>...</td>\n      <td>0</td>\n      <td>0</td>\n      <td>1</td>\n      <td>34</td>\n      <td>1</td>\n      <td>1</td>\n      <td>4</td>\n      <td>-1.1</td>\n      <td>94.767</td>\n      <td>-50.8</td>\n    </tr>\n    <tr>\n      <th>4101</th>\n      <td>0</td>\n      <td>0</td>\n      <td>0</td>\n      <td>0</td>\n      <td>0</td>\n      <td>0</td>\n      <td>0</td>\n      <td>0</td>\n      <td>0</td>\n      <td>1</td>\n      <td>...</td>\n      <td>0</td>\n      <td>0</td>\n      <td>1</td>\n      <td>34</td>\n      <td>1</td>\n      <td>6</td>\n      <td>2</td>\n      <td>-1.1</td>\n      <td>94.767</td>\n      <td>-50.8</td>\n    </tr>\n    <tr>\n      <th>4102</th>\n      <td>1</td>\n      <td>0</td>\n      <td>0</td>\n      <td>0</td>\n      <td>0</td>\n      <td>0</td>\n      <td>0</td>\n      <td>0</td>\n      <td>0</td>\n      <td>0</td>\n      <td>...</td>\n      <td>0</td>\n      <td>1</td>\n      <td>0</td>\n      <td>36</td>\n      <td>2</td>\n      <td>999</td>\n      <td>0</td>\n      <td>-1.1</td>\n      <td>94.767</td>\n      <td>-50.8</td>\n    </tr>\n    <tr>\n      <th>4103</th>\n      <td>0</td>\n      <td>0</td>\n      <td>0</td>\n      <td>0</td>\n      <td>0</td>\n      <td>0</td>\n      <td>0</td>\n      <td>0</td>\n      <td>0</td>\n      <td>0</td>\n      <td>...</td>\n      <td>0</td>\n      <td>0</td>\n      <td>1</td>\n      <td>29</td>\n      <td>1</td>\n      <td>9</td>\n      <td>1</td>\n      <td>-1.1</td>\n      <td>94.767</td>\n      <td>-50.8</td>\n    </tr>\n  </tbody>\n</table>\n<p>4104 rows × 60 columns</p>\n</div>",
      "text/plain": "      job_admin.  job_blue-collar  job_entrepreneur  job_housemaid  \\\n0              0                0                 0              1   \n1              0                0                 0              0   \n2              0                0                 0              0   \n3              1                0                 0              0   \n4              0                0                 0              0   \n...          ...              ...               ...            ...   \n4099           1                0                 0              0   \n4100           0                0                 0              0   \n4101           0                0                 0              0   \n4102           1                0                 0              0   \n4103           0                0                 0              0   \n\n      job_management  job_retired  job_self-employed  job_services  \\\n0                  0            0                  0             0   \n1                  0            0                  0             1   \n2                  0            0                  0             1   \n3                  0            0                  0             0   \n4                  0            0                  0             0   \n...              ...          ...                ...           ...   \n4099               0            0                  0             0   \n4100               0            0                  0             0   \n4101               0            0                  0             0   \n4102               0            0                  0             0   \n4103               0            0                  0             0   \n\n      job_student  job_technician  ...  poutcome_failure  \\\n0               0               0  ...                 0   \n1               0               0  ...                 0   \n2               0               0  ...                 0   \n3               0               0  ...                 0   \n4               0               0  ...                 0   \n...           ...             ...  ...               ...   \n4099            0               0  ...                 1   \n4100            0               1  ...                 0   \n4101            0               1  ...                 0   \n4102            0               0  ...                 0   \n4103            0               0  ...                 0   \n\n      poutcome_nonexistent  poutcome_success  age  campaign  pdays  previous  \\\n0                        1                 0   56         1    999         0   \n1                        1                 0   57         1    999         0   \n2                        1                 0   37         1    999         0   \n3                        1                 0   40         1    999         0   \n4                        1                 0   30         1    999         0   \n...                    ...               ...  ...       ...    ...       ...   \n4099                     0                 0   32         2    999         2   \n4100                     0                 1   34         1      1         4   \n4101                     0                 1   34         1      6         2   \n4102                     1                 0   36         2    999         0   \n4103                     0                 1   29         1      9         1   \n\n      emp.var.rate  cons.price.idx  cons.conf.idx  \n0              1.1          93.994          -36.4  \n1              1.1          93.994          -36.4  \n2              1.1          93.994          -36.4  \n3              1.1          93.994          -36.4  \n4              1.1          93.994          -36.4  \n...            ...             ...            ...  \n4099          -1.1          94.767          -50.8  \n4100          -1.1          94.767          -50.8  \n4101          -1.1          94.767          -50.8  \n4102          -1.1          94.767          -50.8  \n4103          -1.1          94.767          -50.8  \n\n[4104 rows x 60 columns]"
     },
     "execution_count": 49,
     "metadata": {},
     "output_type": "execute_result"
    }
   ],
   "source": [
    "test_X = pd.concat([cat_test_dummies, df1], axis=1)\n",
    "test_X"
   ]
  },
  {
   "cell_type": "code",
   "execution_count": 50,
   "metadata": {},
   "outputs": [
    {
     "data": {
      "text/html": "<div>\n<style scoped>\n    .dataframe tbody tr th:only-of-type {\n        vertical-align: middle;\n    }\n\n    .dataframe tbody tr th {\n        vertical-align: top;\n    }\n\n    .dataframe thead th {\n        text-align: right;\n    }\n</style>\n<table border=\"1\" class=\"dataframe\">\n  <thead>\n    <tr style=\"text-align: right;\">\n      <th></th>\n      <th>job_admin.</th>\n      <th>job_blue-collar</th>\n      <th>job_entrepreneur</th>\n      <th>job_housemaid</th>\n      <th>job_management</th>\n      <th>job_retired</th>\n      <th>job_self-employed</th>\n      <th>job_services</th>\n      <th>job_student</th>\n      <th>job_technician</th>\n      <th>...</th>\n      <th>poutcome_failure</th>\n      <th>poutcome_nonexistent</th>\n      <th>poutcome_success</th>\n      <th>age</th>\n      <th>campaign</th>\n      <th>pdays</th>\n      <th>previous</th>\n      <th>emp.var.rate</th>\n      <th>cons.price.idx</th>\n      <th>cons.conf.idx</th>\n    </tr>\n  </thead>\n  <tbody>\n    <tr>\n      <th>0</th>\n      <td>0</td>\n      <td>0</td>\n      <td>0</td>\n      <td>1</td>\n      <td>0</td>\n      <td>0</td>\n      <td>0</td>\n      <td>0</td>\n      <td>0</td>\n      <td>0</td>\n      <td>...</td>\n      <td>0</td>\n      <td>1</td>\n      <td>0</td>\n      <td>56</td>\n      <td>1</td>\n      <td>999</td>\n      <td>0</td>\n      <td>1.1</td>\n      <td>93.994</td>\n      <td>-36.4</td>\n    </tr>\n    <tr>\n      <th>1</th>\n      <td>0</td>\n      <td>0</td>\n      <td>0</td>\n      <td>0</td>\n      <td>0</td>\n      <td>0</td>\n      <td>0</td>\n      <td>1</td>\n      <td>0</td>\n      <td>0</td>\n      <td>...</td>\n      <td>0</td>\n      <td>1</td>\n      <td>0</td>\n      <td>57</td>\n      <td>1</td>\n      <td>999</td>\n      <td>0</td>\n      <td>1.1</td>\n      <td>93.994</td>\n      <td>-36.4</td>\n    </tr>\n    <tr>\n      <th>2</th>\n      <td>0</td>\n      <td>0</td>\n      <td>0</td>\n      <td>0</td>\n      <td>0</td>\n      <td>0</td>\n      <td>0</td>\n      <td>1</td>\n      <td>0</td>\n      <td>0</td>\n      <td>...</td>\n      <td>0</td>\n      <td>1</td>\n      <td>0</td>\n      <td>37</td>\n      <td>1</td>\n      <td>999</td>\n      <td>0</td>\n      <td>1.1</td>\n      <td>93.994</td>\n      <td>-36.4</td>\n    </tr>\n    <tr>\n      <th>3</th>\n      <td>1</td>\n      <td>0</td>\n      <td>0</td>\n      <td>0</td>\n      <td>0</td>\n      <td>0</td>\n      <td>0</td>\n      <td>0</td>\n      <td>0</td>\n      <td>0</td>\n      <td>...</td>\n      <td>0</td>\n      <td>1</td>\n      <td>0</td>\n      <td>40</td>\n      <td>1</td>\n      <td>999</td>\n      <td>0</td>\n      <td>1.1</td>\n      <td>93.994</td>\n      <td>-36.4</td>\n    </tr>\n    <tr>\n      <th>4</th>\n      <td>0</td>\n      <td>0</td>\n      <td>0</td>\n      <td>0</td>\n      <td>0</td>\n      <td>0</td>\n      <td>0</td>\n      <td>0</td>\n      <td>0</td>\n      <td>0</td>\n      <td>...</td>\n      <td>0</td>\n      <td>1</td>\n      <td>0</td>\n      <td>30</td>\n      <td>1</td>\n      <td>999</td>\n      <td>0</td>\n      <td>1.1</td>\n      <td>93.994</td>\n      <td>-36.4</td>\n    </tr>\n    <tr>\n      <th>...</th>\n      <td>...</td>\n      <td>...</td>\n      <td>...</td>\n      <td>...</td>\n      <td>...</td>\n      <td>...</td>\n      <td>...</td>\n      <td>...</td>\n      <td>...</td>\n      <td>...</td>\n      <td>...</td>\n      <td>...</td>\n      <td>...</td>\n      <td>...</td>\n      <td>...</td>\n      <td>...</td>\n      <td>...</td>\n      <td>...</td>\n      <td>...</td>\n      <td>...</td>\n      <td>...</td>\n    </tr>\n    <tr>\n      <th>4099</th>\n      <td>1</td>\n      <td>0</td>\n      <td>0</td>\n      <td>0</td>\n      <td>0</td>\n      <td>0</td>\n      <td>0</td>\n      <td>0</td>\n      <td>0</td>\n      <td>0</td>\n      <td>...</td>\n      <td>1</td>\n      <td>0</td>\n      <td>0</td>\n      <td>32</td>\n      <td>2</td>\n      <td>999</td>\n      <td>2</td>\n      <td>-1.1</td>\n      <td>94.767</td>\n      <td>-50.8</td>\n    </tr>\n    <tr>\n      <th>4100</th>\n      <td>0</td>\n      <td>0</td>\n      <td>0</td>\n      <td>0</td>\n      <td>0</td>\n      <td>0</td>\n      <td>0</td>\n      <td>0</td>\n      <td>0</td>\n      <td>1</td>\n      <td>...</td>\n      <td>0</td>\n      <td>0</td>\n      <td>1</td>\n      <td>34</td>\n      <td>1</td>\n      <td>1</td>\n      <td>4</td>\n      <td>-1.1</td>\n      <td>94.767</td>\n      <td>-50.8</td>\n    </tr>\n    <tr>\n      <th>4101</th>\n      <td>0</td>\n      <td>0</td>\n      <td>0</td>\n      <td>0</td>\n      <td>0</td>\n      <td>0</td>\n      <td>0</td>\n      <td>0</td>\n      <td>0</td>\n      <td>1</td>\n      <td>...</td>\n      <td>0</td>\n      <td>0</td>\n      <td>1</td>\n      <td>34</td>\n      <td>1</td>\n      <td>6</td>\n      <td>2</td>\n      <td>-1.1</td>\n      <td>94.767</td>\n      <td>-50.8</td>\n    </tr>\n    <tr>\n      <th>4102</th>\n      <td>1</td>\n      <td>0</td>\n      <td>0</td>\n      <td>0</td>\n      <td>0</td>\n      <td>0</td>\n      <td>0</td>\n      <td>0</td>\n      <td>0</td>\n      <td>0</td>\n      <td>...</td>\n      <td>0</td>\n      <td>1</td>\n      <td>0</td>\n      <td>36</td>\n      <td>2</td>\n      <td>999</td>\n      <td>0</td>\n      <td>-1.1</td>\n      <td>94.767</td>\n      <td>-50.8</td>\n    </tr>\n    <tr>\n      <th>4103</th>\n      <td>0</td>\n      <td>0</td>\n      <td>0</td>\n      <td>0</td>\n      <td>0</td>\n      <td>0</td>\n      <td>0</td>\n      <td>0</td>\n      <td>0</td>\n      <td>0</td>\n      <td>...</td>\n      <td>0</td>\n      <td>0</td>\n      <td>1</td>\n      <td>29</td>\n      <td>1</td>\n      <td>9</td>\n      <td>1</td>\n      <td>-1.1</td>\n      <td>94.767</td>\n      <td>-50.8</td>\n    </tr>\n  </tbody>\n</table>\n<p>4104 rows × 54 columns</p>\n</div>",
      "text/plain": "      job_admin.  job_blue-collar  job_entrepreneur  job_housemaid  \\\n0              0                0                 0              1   \n1              0                0                 0              0   \n2              0                0                 0              0   \n3              1                0                 0              0   \n4              0                0                 0              0   \n...          ...              ...               ...            ...   \n4099           1                0                 0              0   \n4100           0                0                 0              0   \n4101           0                0                 0              0   \n4102           1                0                 0              0   \n4103           0                0                 0              0   \n\n      job_management  job_retired  job_self-employed  job_services  \\\n0                  0            0                  0             0   \n1                  0            0                  0             1   \n2                  0            0                  0             1   \n3                  0            0                  0             0   \n4                  0            0                  0             0   \n...              ...          ...                ...           ...   \n4099               0            0                  0             0   \n4100               0            0                  0             0   \n4101               0            0                  0             0   \n4102               0            0                  0             0   \n4103               0            0                  0             0   \n\n      job_student  job_technician  ...  poutcome_failure  \\\n0               0               0  ...                 0   \n1               0               0  ...                 0   \n2               0               0  ...                 0   \n3               0               0  ...                 0   \n4               0               0  ...                 0   \n...           ...             ...  ...               ...   \n4099            0               0  ...                 1   \n4100            0               1  ...                 0   \n4101            0               1  ...                 0   \n4102            0               0  ...                 0   \n4103            0               0  ...                 0   \n\n      poutcome_nonexistent  poutcome_success  age  campaign  pdays  previous  \\\n0                        1                 0   56         1    999         0   \n1                        1                 0   57         1    999         0   \n2                        1                 0   37         1    999         0   \n3                        1                 0   40         1    999         0   \n4                        1                 0   30         1    999         0   \n...                    ...               ...  ...       ...    ...       ...   \n4099                     0                 0   32         2    999         2   \n4100                     0                 1   34         1      1         4   \n4101                     0                 1   34         1      6         2   \n4102                     1                 0   36         2    999         0   \n4103                     0                 1   29         1      9         1   \n\n      emp.var.rate  cons.price.idx  cons.conf.idx  \n0              1.1          93.994          -36.4  \n1              1.1          93.994          -36.4  \n2              1.1          93.994          -36.4  \n3              1.1          93.994          -36.4  \n4              1.1          93.994          -36.4  \n...            ...             ...            ...  \n4099          -1.1          94.767          -50.8  \n4100          -1.1          94.767          -50.8  \n4101          -1.1          94.767          -50.8  \n4102          -1.1          94.767          -50.8  \n4103          -1.1          94.767          -50.8  \n\n[4104 rows x 54 columns]"
     },
     "execution_count": 50,
     "metadata": {},
     "output_type": "execute_result"
    }
   ],
   "source": [
    "test_X.drop(columns = unknow_columns, inplace = True)\n",
    "test_X"
   ]
  },
  {
   "cell_type": "code",
   "execution_count": 0,
   "metadata": {},
   "outputs": [],
   "source": [
    "%matplotlib inline\n",
    "import seaborn as sns\n",
    "import matplotlib.pyplot as plt\n",
    "\n",
    "for column in cat_data:\n",
    "    count = cat_data[column].value_counts()\n",
    "    sns.set(style=\"darkgrid\")\n",
    "    f, axes = plt.subplots(1,1, figsize=(15, 4), sharex=True)\n",
    "    sns.barplot(count.index, count.values, alpha=0.9)\n",
    "    plt.title(column)\n",
    "    plt.ylabel('Number of Occurrences', fontsize=12)\n",
    "    plt.xlabel(column, fontsize=12)\n",
    "    plt.show()"
   ]
  },
  {
   "cell_type": "code",
   "execution_count": null,
   "metadata": {},
   "outputs": [],
   "source": []
  },
  {
   "cell_type": "code",
   "execution_count": 0,
   "metadata": {},
   "outputs": [],
   "source": [
    "# import matplotlib.pyplot as plt\n",
    "# plt.scatter(data['nr.employed'], data['euribor3m'])\n",
    "# plt.show()\n",
    "\n",
    "import seaborn as sns; sns.set()\n",
    "import matplotlib.pyplot as plt\n",
    "ax = sns.scatterplot(x=\"nr.employed\", y=\"euribor3m\", hue=\"age\" data=data)"
   ]
  },
  {
   "cell_type": "code",
   "execution_count": 0,
   "metadata": {},
   "outputs": [],
   "source": [
    "import seaborn as sns\n",
    "import matplotlib.pyplot as plt\n",
    "sns.pairplot(data)\n",
    "plt.show()"
   ]
  },
  {
   "cell_type": "code",
   "execution_count": null,
   "metadata": {},
   "outputs": [],
   "source": []
  },
  {
   "cell_type": "code",
   "execution_count": 0,
   "metadata": {},
   "outputs": [],
   "source": [
    "from pandas.plotting import scatter_matrix\n",
    "scatter_matrix(features, figsize = (15, 15))"
   ]
  }
 ]
}